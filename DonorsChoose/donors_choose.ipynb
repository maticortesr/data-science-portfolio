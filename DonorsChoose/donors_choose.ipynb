{
 "cells": [
  {
   "cell_type": "markdown",
   "metadata": {},
   "source": [
    "# **DonorsChoose.org Application Screening**"
   ]
  },
  {
   "cell_type": "markdown",
   "metadata": {},
   "source": [
    "This notebook uses the data from the [DonorsChoose.org Application Screening Competition](https://www.kaggle.com/c/donorschoose-application-screening).\n",
    "\n",
    "The goal of the competition is to predict whether or not a DonorsChoose.org project proposal submitted by a teacher will be approved, using the text of project descriptions as well as additional metadata about the project, teacher, and school."
   ]
  },
  {
   "cell_type": "markdown",
   "metadata": {},
   "source": [
    "Code below to download the dataset using the Kaggle API.\n",
    "For more info: https://github.com/Kaggle/kaggle-api"
   ]
  },
  {
   "cell_type": "code",
   "execution_count": 1,
   "metadata": {
    "scrolled": true
   },
   "outputs": [],
   "source": [
    "#!kaggle competitions list\n"
   ]
  },
  {
   "cell_type": "code",
   "execution_count": 2,
   "metadata": {
    "colab": {
     "autoexec": {
      "startup": false,
      "wait_interval": 0
     },
     "base_uri": "https://localhost:8080/",
     "height": 225
    },
    "colab_type": "code",
    "executionInfo": {
     "elapsed": 9187,
     "status": "ok",
     "timestamp": 1530362924416,
     "user": {
      "displayName": "matias cortes",
      "photoUrl": "https://lh3.googleusercontent.com/a/default-user=s128",
      "userId": "107469798896078848018"
     },
     "user_tz": 240
    },
    "id": "nrQnlqB0LoVh",
    "outputId": "63dd6ac8-748f-4402-d3c2-23afb86c9815"
   },
   "outputs": [],
   "source": [
    "#!kaggle competitions download -c donorschoose-application-screening "
   ]
  },
  {
   "cell_type": "code",
   "execution_count": 3,
   "metadata": {
    "colab": {
     "autoexec": {
      "startup": false,
      "wait_interval": 0
     },
     "base_uri": "https://localhost:8080/",
     "height": 34
    },
    "colab_type": "code",
    "executionInfo": {
     "elapsed": 1475,
     "status": "ok",
     "timestamp": 1530362926033,
     "user": {
      "displayName": "matias cortes",
      "photoUrl": "https://lh3.googleusercontent.com/a/default-user=s128",
      "userId": "107469798896078848018"
     },
     "user_tz": 240
    },
    "id": "3gF9_M6wLrZ6",
    "outputId": "847e3551-54b6-4866-8f10-fb15cfd66697"
   },
   "outputs": [],
   "source": [
    "#!cd /home/paperspace/.kaggle/competitions/donorschoose-application-screening"
   ]
  },
  {
   "cell_type": "code",
   "execution_count": 4,
   "metadata": {},
   "outputs": [],
   "source": [
    "#!ls"
   ]
  },
  {
   "cell_type": "code",
   "execution_count": 5,
   "metadata": {
    "colab": {
     "autoexec": {
      "startup": false,
      "wait_interval": 0
     },
     "base_uri": "https://localhost:8080/",
     "height": 243
    },
    "colab_type": "code",
    "executionInfo": {
     "elapsed": 6973,
     "status": "ok",
     "timestamp": 1530362933644,
     "user": {
      "displayName": "matias cortes",
      "photoUrl": "https://lh3.googleusercontent.com/a/default-user=s128",
      "userId": "107469798896078848018"
     },
     "user_tz": 240
    },
    "id": "Kn4wlgAdLubL",
    "outputId": "1251d2f5-d8fb-4c64-e58d-5a609ead3c65"
   },
   "outputs": [],
   "source": [
    "#! unzip /home/paperspace/.kaggle/competitions/donorschoose-application-screening/\"*.zip\" -d /home/paperspace/.kaggle/competitions/donorschoose-application-screening/"
   ]
  },
  {
   "cell_type": "code",
   "execution_count": 6,
   "metadata": {
    "colab": {
     "autoexec": {
      "startup": false,
      "wait_interval": 0
     },
     "base_uri": "https://localhost:8080/",
     "height": 52
    },
    "colab_type": "code",
    "executionInfo": {
     "elapsed": 1716,
     "status": "ok",
     "timestamp": 1530368082186,
     "user": {
      "displayName": "matias cortes",
      "photoUrl": "https://lh3.googleusercontent.com/a/default-user=s128",
      "userId": "107469798896078848018"
     },
     "user_tz": 240
    },
    "id": "FXBkRfxOLvdN",
    "outputId": "83e47b43-3123-41f1-c5d9-c88cac6538a0"
   },
   "outputs": [],
   "source": [
    "#!ls /home/paperspace/.kaggle/competitions/donorschoose-application-screening"
   ]
  },
  {
   "cell_type": "code",
   "execution_count": 7,
   "metadata": {
    "colab": {
     "autoexec": {
      "startup": false,
      "wait_interval": 0
     },
     "base_uri": "https://localhost:8080/",
     "height": 17
    },
    "colab_type": "code",
    "executionInfo": {
     "elapsed": 1056,
     "status": "ok",
     "timestamp": 1530368123885,
     "user": {
      "displayName": "matias cortes",
      "photoUrl": "https://lh3.googleusercontent.com/a/default-user=s128",
      "userId": "107469798896078848018"
     },
     "user_tz": 240
    },
    "id": "NN5xriH2Tb7R",
    "outputId": "3e429eb4-8f3b-4d83-d066-803397386ec6"
   },
   "outputs": [],
   "source": [
    "import pandas as pd\n",
    "import numpy as np\n",
    "import time\n",
    "from sklearn.model_selection import train_test_split\n",
    "from sklearn.metrics import roc_auc_score\n",
    "from sklearn.ensemble import RandomForestClassifier\n",
    "from sklearn import metrics\n",
    "import matplotlib.pyplot as plt\n",
    "import pickle\n",
    "\n",
    "%matplotlib inline"
   ]
  },
  {
   "cell_type": "code",
   "execution_count": 8,
   "metadata": {
    "colab": {
     "autoexec": {
      "startup": false,
      "wait_interval": 0
     },
     "base_uri": "https://localhost:8080/",
     "height": 208
    },
    "colab_type": "code",
    "executionInfo": {
     "elapsed": 637,
     "status": "ok",
     "timestamp": 1530368298807,
     "user": {
      "displayName": "matias cortes",
      "photoUrl": "https://lh3.googleusercontent.com/a/default-user=s128",
      "userId": "107469798896078848018"
     },
     "user_tz": 240
    },
    "id": "DL7qh04PDBZB",
    "outputId": "c80a4abb-491f-445c-992a-c75449c1a51f"
   },
   "outputs": [
    {
     "name": "stdout",
     "output_type": "stream",
     "text": [
      "[nltk_data] Downloading package stopwords to\n",
      "[nltk_data]     /home/paperspace/nltk_data...\n",
      "[nltk_data]   Package stopwords is already up-to-date!\n",
      "[nltk_data] Downloading package brown to /home/paperspace/nltk_data...\n",
      "[nltk_data]   Package brown is already up-to-date!\n",
      "[nltk_data] Downloading package punkt to /home/paperspace/nltk_data...\n",
      "[nltk_data]   Package punkt is already up-to-date!\n",
      "[nltk_data] Downloading package averaged_perceptron_tagger to\n",
      "[nltk_data]     /home/paperspace/nltk_data...\n",
      "[nltk_data]   Package averaged_perceptron_tagger is already up-to-\n",
      "[nltk_data]       date!\n"
     ]
    },
    {
     "data": {
      "text/plain": [
       "True"
      ]
     },
     "execution_count": 8,
     "metadata": {},
     "output_type": "execute_result"
    }
   ],
   "source": [
    "import nltk\n",
    "from nltk.corpus import stopwords\n",
    "nltk.download('stopwords')\n",
    "nltk.download('brown')\n",
    "nltk.download('punkt')\n",
    "nltk.download('averaged_perceptron_tagger')\n"
   ]
  },
  {
   "cell_type": "code",
   "execution_count": 9,
   "metadata": {
    "colab": {
     "autoexec": {
      "startup": false,
      "wait_interval": 0
     },
     "base_uri": "https://localhost:8080/",
     "height": 17
    },
    "colab_type": "code",
    "executionInfo": {
     "elapsed": 4015,
     "status": "ok",
     "timestamp": 1530368132491,
     "user": {
      "displayName": "matias cortes",
      "photoUrl": "https://lh3.googleusercontent.com/a/default-user=s128",
      "userId": "107469798896078848018"
     },
     "user_tz": 240
    },
    "id": "dvQDbpRNjFr_",
    "outputId": "3d8ecf03-ea78-4875-ad9e-8ade1b599228"
   },
   "outputs": [],
   "source": [
    "train_data = pd.read_csv('/home/paperspace/.kaggle/competitions/donorschoose-application-screening/train.csv')"
   ]
  },
  {
   "cell_type": "code",
   "execution_count": 10,
   "metadata": {
    "colab": {
     "autoexec": {
      "startup": false,
      "wait_interval": 0
     },
     "base_uri": "https://localhost:8080/",
     "height": 72
    },
    "colab_type": "code",
    "executionInfo": {
     "elapsed": 3746,
     "status": "ok",
     "timestamp": 1530368136941,
     "user": {
      "displayName": "matias cortes",
      "photoUrl": "https://lh3.googleusercontent.com/a/default-user=s128",
      "userId": "107469798896078848018"
     },
     "user_tz": 240
    },
    "id": "XVN5nIXUjFsV",
    "outputId": "0ee3b9ed-8d84-4949-ab95-fccf0a588a0f"
   },
   "outputs": [
    {
     "name": "stderr",
     "output_type": "stream",
     "text": [
      "/home/paperspace/anaconda3/envs/fastai/lib/python3.6/site-packages/IPython/core/interactiveshell.py:2785: DtypeWarning: Columns (11,12) have mixed types. Specify dtype option on import or set low_memory=False.\n",
      "  interactivity=interactivity, compiler=compiler, result=result)\n"
     ]
    }
   ],
   "source": [
    "test_data = pd.read_csv('/home/paperspace/.kaggle/competitions/donorschoose-application-screening/test.csv')\n",
    "resources_data = pd.read_csv('/home/paperspace/.kaggle/competitions/donorschoose-application-screening/resources.csv')"
   ]
  },
  {
   "cell_type": "code",
   "execution_count": 11,
   "metadata": {},
   "outputs": [
    {
     "name": "stdout",
     "output_type": "stream",
     "text": [
      "value counts train_data: 182080 \n",
      "value counts test_data: 78035 \n",
      "value counts resources_data: 1541272 \n"
     ]
    }
   ],
   "source": [
    "print('value counts train_data: {} '.format(len(train_data)) )\n",
    "print('value counts test_data: {} '.format(len(test_data)) )\n",
    "print('value counts resources_data: {} '.format(len(resources_data)) )"
   ]
  },
  {
   "cell_type": "code",
   "execution_count": 12,
   "metadata": {
    "colab": {
     "autoexec": {
      "startup": false,
      "wait_interval": 0
     },
     "base_uri": "https://localhost:8080/",
     "height": 521
    },
    "colab_type": "code",
    "executionInfo": {
     "elapsed": 1598,
     "status": "ok",
     "timestamp": 1530362946448,
     "user": {
      "displayName": "matias cortes",
      "photoUrl": "https://lh3.googleusercontent.com/a/default-user=s128",
      "userId": "107469798896078848018"
     },
     "user_tz": 240
    },
    "id": "nYenBMpFjFs2",
    "outputId": "defb2adf-465f-4bec-fd97-131901e1f471"
   },
   "outputs": [
    {
     "data": {
      "text/html": [
       "<div>\n",
       "<style scoped>\n",
       "    .dataframe tbody tr th:only-of-type {\n",
       "        vertical-align: middle;\n",
       "    }\n",
       "\n",
       "    .dataframe tbody tr th {\n",
       "        vertical-align: top;\n",
       "    }\n",
       "\n",
       "    .dataframe thead th {\n",
       "        text-align: right;\n",
       "    }\n",
       "</style>\n",
       "<table border=\"1\" class=\"dataframe\">\n",
       "  <thead>\n",
       "    <tr style=\"text-align: right;\">\n",
       "      <th></th>\n",
       "      <th>id</th>\n",
       "      <th>teacher_id</th>\n",
       "      <th>teacher_prefix</th>\n",
       "      <th>school_state</th>\n",
       "      <th>project_submitted_datetime</th>\n",
       "      <th>project_grade_category</th>\n",
       "      <th>project_subject_categories</th>\n",
       "      <th>project_subject_subcategories</th>\n",
       "      <th>project_title</th>\n",
       "      <th>project_essay_1</th>\n",
       "      <th>project_essay_2</th>\n",
       "      <th>project_essay_3</th>\n",
       "      <th>project_essay_4</th>\n",
       "      <th>project_resource_summary</th>\n",
       "      <th>teacher_number_of_previously_posted_projects</th>\n",
       "      <th>project_is_approved</th>\n",
       "    </tr>\n",
       "  </thead>\n",
       "  <tbody>\n",
       "    <tr>\n",
       "      <th>0</th>\n",
       "      <td>p036502</td>\n",
       "      <td>484aaf11257089a66cfedc9461c6bd0a</td>\n",
       "      <td>Ms.</td>\n",
       "      <td>NV</td>\n",
       "      <td>2016-11-18 14:45:59</td>\n",
       "      <td>Grades PreK-2</td>\n",
       "      <td>Literacy &amp; Language</td>\n",
       "      <td>Literacy</td>\n",
       "      <td>Super Sight Word Centers</td>\n",
       "      <td>Most of my kindergarten students come from low...</td>\n",
       "      <td>I currently have a differentiated sight word c...</td>\n",
       "      <td>NaN</td>\n",
       "      <td>NaN</td>\n",
       "      <td>My students need 6 Ipod Nano's to create and d...</td>\n",
       "      <td>26</td>\n",
       "      <td>1</td>\n",
       "    </tr>\n",
       "    <tr>\n",
       "      <th>1</th>\n",
       "      <td>p039565</td>\n",
       "      <td>df72a3ba8089423fa8a94be88060f6ed</td>\n",
       "      <td>Mrs.</td>\n",
       "      <td>GA</td>\n",
       "      <td>2017-04-26 15:57:28</td>\n",
       "      <td>Grades 3-5</td>\n",
       "      <td>Music &amp; The Arts, Health &amp; Sports</td>\n",
       "      <td>Performing Arts, Team Sports</td>\n",
       "      <td>Keep Calm and Dance On</td>\n",
       "      <td>Our elementary school is a culturally rich sch...</td>\n",
       "      <td>We strive to provide our diverse population of...</td>\n",
       "      <td>NaN</td>\n",
       "      <td>NaN</td>\n",
       "      <td>My students need matching shirts to wear for d...</td>\n",
       "      <td>1</td>\n",
       "      <td>0</td>\n",
       "    </tr>\n",
       "    <tr>\n",
       "      <th>2</th>\n",
       "      <td>p233823</td>\n",
       "      <td>a9b876a9252e08a55e3d894150f75ba3</td>\n",
       "      <td>Ms.</td>\n",
       "      <td>UT</td>\n",
       "      <td>2017-01-01 22:57:44</td>\n",
       "      <td>Grades 3-5</td>\n",
       "      <td>Math &amp; Science, Literacy &amp; Language</td>\n",
       "      <td>Applied Sciences, Literature &amp; Writing</td>\n",
       "      <td>Lets 3Doodle to Learn</td>\n",
       "      <td>Hello;\\r\\nMy name is Mrs. Brotherton. I teach ...</td>\n",
       "      <td>We are looking to add some 3Doodler to our cla...</td>\n",
       "      <td>NaN</td>\n",
       "      <td>NaN</td>\n",
       "      <td>My students need the 3doodler. We are an SEM s...</td>\n",
       "      <td>5</td>\n",
       "      <td>1</td>\n",
       "    </tr>\n",
       "    <tr>\n",
       "      <th>3</th>\n",
       "      <td>p185307</td>\n",
       "      <td>525fdbb6ec7f538a48beebaa0a51b24f</td>\n",
       "      <td>Mr.</td>\n",
       "      <td>NC</td>\n",
       "      <td>2016-08-12 15:42:11</td>\n",
       "      <td>Grades 3-5</td>\n",
       "      <td>Health &amp; Sports</td>\n",
       "      <td>Health &amp; Wellness</td>\n",
       "      <td>\\\"Kid Inspired\\\" Equipment to Increase Activit...</td>\n",
       "      <td>My students are the greatest students but are ...</td>\n",
       "      <td>The student's project which is totally \\\"kid-i...</td>\n",
       "      <td>NaN</td>\n",
       "      <td>NaN</td>\n",
       "      <td>My students need balls and other activity equi...</td>\n",
       "      <td>16</td>\n",
       "      <td>0</td>\n",
       "    </tr>\n",
       "    <tr>\n",
       "      <th>4</th>\n",
       "      <td>p013780</td>\n",
       "      <td>a63b5547a7239eae4c1872670848e61a</td>\n",
       "      <td>Mr.</td>\n",
       "      <td>CA</td>\n",
       "      <td>2016-08-06 09:09:11</td>\n",
       "      <td>Grades 6-8</td>\n",
       "      <td>Health &amp; Sports</td>\n",
       "      <td>Health &amp; Wellness</td>\n",
       "      <td>We need clean water for our culinary arts class!</td>\n",
       "      <td>My students are athletes and students who are ...</td>\n",
       "      <td>For some reason in our kitchen the water comes...</td>\n",
       "      <td>NaN</td>\n",
       "      <td>NaN</td>\n",
       "      <td>My students need a water filtration system for...</td>\n",
       "      <td>42</td>\n",
       "      <td>1</td>\n",
       "    </tr>\n",
       "  </tbody>\n",
       "</table>\n",
       "</div>"
      ],
      "text/plain": [
       "        id                        teacher_id teacher_prefix school_state  \\\n",
       "0  p036502  484aaf11257089a66cfedc9461c6bd0a            Ms.           NV   \n",
       "1  p039565  df72a3ba8089423fa8a94be88060f6ed           Mrs.           GA   \n",
       "2  p233823  a9b876a9252e08a55e3d894150f75ba3            Ms.           UT   \n",
       "3  p185307  525fdbb6ec7f538a48beebaa0a51b24f            Mr.           NC   \n",
       "4  p013780  a63b5547a7239eae4c1872670848e61a            Mr.           CA   \n",
       "\n",
       "  project_submitted_datetime project_grade_category  \\\n",
       "0        2016-11-18 14:45:59          Grades PreK-2   \n",
       "1        2017-04-26 15:57:28             Grades 3-5   \n",
       "2        2017-01-01 22:57:44             Grades 3-5   \n",
       "3        2016-08-12 15:42:11             Grades 3-5   \n",
       "4        2016-08-06 09:09:11             Grades 6-8   \n",
       "\n",
       "            project_subject_categories  \\\n",
       "0                  Literacy & Language   \n",
       "1    Music & The Arts, Health & Sports   \n",
       "2  Math & Science, Literacy & Language   \n",
       "3                      Health & Sports   \n",
       "4                      Health & Sports   \n",
       "\n",
       "            project_subject_subcategories  \\\n",
       "0                                Literacy   \n",
       "1            Performing Arts, Team Sports   \n",
       "2  Applied Sciences, Literature & Writing   \n",
       "3                       Health & Wellness   \n",
       "4                       Health & Wellness   \n",
       "\n",
       "                                       project_title  \\\n",
       "0                           Super Sight Word Centers   \n",
       "1                             Keep Calm and Dance On   \n",
       "2                              Lets 3Doodle to Learn   \n",
       "3  \\\"Kid Inspired\\\" Equipment to Increase Activit...   \n",
       "4   We need clean water for our culinary arts class!   \n",
       "\n",
       "                                     project_essay_1  \\\n",
       "0  Most of my kindergarten students come from low...   \n",
       "1  Our elementary school is a culturally rich sch...   \n",
       "2  Hello;\\r\\nMy name is Mrs. Brotherton. I teach ...   \n",
       "3  My students are the greatest students but are ...   \n",
       "4  My students are athletes and students who are ...   \n",
       "\n",
       "                                     project_essay_2 project_essay_3  \\\n",
       "0  I currently have a differentiated sight word c...             NaN   \n",
       "1  We strive to provide our diverse population of...             NaN   \n",
       "2  We are looking to add some 3Doodler to our cla...             NaN   \n",
       "3  The student's project which is totally \\\"kid-i...             NaN   \n",
       "4  For some reason in our kitchen the water comes...             NaN   \n",
       "\n",
       "  project_essay_4                           project_resource_summary  \\\n",
       "0             NaN  My students need 6 Ipod Nano's to create and d...   \n",
       "1             NaN  My students need matching shirts to wear for d...   \n",
       "2             NaN  My students need the 3doodler. We are an SEM s...   \n",
       "3             NaN  My students need balls and other activity equi...   \n",
       "4             NaN  My students need a water filtration system for...   \n",
       "\n",
       "   teacher_number_of_previously_posted_projects  project_is_approved  \n",
       "0                                            26                    1  \n",
       "1                                             1                    0  \n",
       "2                                             5                    1  \n",
       "3                                            16                    0  \n",
       "4                                            42                    1  "
      ]
     },
     "execution_count": 12,
     "metadata": {},
     "output_type": "execute_result"
    }
   ],
   "source": [
    "train_data.head()"
   ]
  },
  {
   "cell_type": "code",
   "execution_count": 13,
   "metadata": {
    "colab": {
     "autoexec": {
      "startup": false,
      "wait_interval": 0
     },
     "base_uri": "https://localhost:8080/",
     "height": 312
    },
    "colab_type": "code",
    "executionInfo": {
     "elapsed": 1167,
     "status": "ok",
     "timestamp": 1530362947918,
     "user": {
      "displayName": "matias cortes",
      "photoUrl": "https://lh3.googleusercontent.com/a/default-user=s128",
      "userId": "107469798896078848018"
     },
     "user_tz": 240
    },
    "id": "T-NvB6dMjFtM",
    "outputId": "bdb8c54e-62cc-4642-fd93-7bae091a9b30"
   },
   "outputs": [
    {
     "data": {
      "text/plain": [
       "id                                              object\n",
       "teacher_id                                      object\n",
       "teacher_prefix                                  object\n",
       "school_state                                    object\n",
       "project_submitted_datetime                      object\n",
       "project_grade_category                          object\n",
       "project_subject_categories                      object\n",
       "project_subject_subcategories                   object\n",
       "project_title                                   object\n",
       "project_essay_1                                 object\n",
       "project_essay_2                                 object\n",
       "project_essay_3                                 object\n",
       "project_essay_4                                 object\n",
       "project_resource_summary                        object\n",
       "teacher_number_of_previously_posted_projects     int64\n",
       "project_is_approved                              int64\n",
       "dtype: object"
      ]
     },
     "execution_count": 13,
     "metadata": {},
     "output_type": "execute_result"
    }
   ],
   "source": [
    "train_data.dtypes"
   ]
  },
  {
   "cell_type": "code",
   "execution_count": 14,
   "metadata": {},
   "outputs": [
    {
     "data": {
      "text/plain": [
       "id                                              182080\n",
       "teacher_id                                      182080\n",
       "teacher_prefix                                  182076\n",
       "school_state                                    182080\n",
       "project_submitted_datetime                      182080\n",
       "project_grade_category                          182080\n",
       "project_subject_categories                      182080\n",
       "project_subject_subcategories                   182080\n",
       "project_title                                   182080\n",
       "project_essay_1                                 182080\n",
       "project_essay_2                                 182080\n",
       "project_essay_3                                   6374\n",
       "project_essay_4                                   6374\n",
       "project_resource_summary                        182080\n",
       "teacher_number_of_previously_posted_projects    182080\n",
       "project_is_approved                             182080\n",
       "dtype: int64"
      ]
     },
     "execution_count": 14,
     "metadata": {},
     "output_type": "execute_result"
    }
   ],
   "source": [
    "train_data.count()"
   ]
  },
  {
   "cell_type": "markdown",
   "metadata": {
    "colab_type": "text",
    "id": "ly_nHS0hjFwA"
   },
   "source": [
    "**Joining resources data**"
   ]
  },
  {
   "cell_type": "code",
   "execution_count": 15,
   "metadata": {
    "colab": {
     "autoexec": {
      "startup": false,
      "wait_interval": 0
     },
     "base_uri": "https://localhost:8080/",
     "height": 206
    },
    "colab_type": "code",
    "executionInfo": {
     "elapsed": 1376,
     "status": "ok",
     "timestamp": 1530362949895,
     "user": {
      "displayName": "matias cortes",
      "photoUrl": "https://lh3.googleusercontent.com/a/default-user=s128",
      "userId": "107469798896078848018"
     },
     "user_tz": 240
    },
    "id": "7mqkrkqkjFwG",
    "outputId": "d5978b3c-3f77-4402-a671-32d895e52a9e"
   },
   "outputs": [
    {
     "data": {
      "text/html": [
       "<div>\n",
       "<style scoped>\n",
       "    .dataframe tbody tr th:only-of-type {\n",
       "        vertical-align: middle;\n",
       "    }\n",
       "\n",
       "    .dataframe tbody tr th {\n",
       "        vertical-align: top;\n",
       "    }\n",
       "\n",
       "    .dataframe thead th {\n",
       "        text-align: right;\n",
       "    }\n",
       "</style>\n",
       "<table border=\"1\" class=\"dataframe\">\n",
       "  <thead>\n",
       "    <tr style=\"text-align: right;\">\n",
       "      <th></th>\n",
       "      <th>id</th>\n",
       "      <th>description</th>\n",
       "      <th>quantity</th>\n",
       "      <th>price</th>\n",
       "    </tr>\n",
       "  </thead>\n",
       "  <tbody>\n",
       "    <tr>\n",
       "      <th>0</th>\n",
       "      <td>p233245</td>\n",
       "      <td>LC652 - Lakeshore Double-Space Mobile Drying Rack</td>\n",
       "      <td>1</td>\n",
       "      <td>149.00</td>\n",
       "    </tr>\n",
       "    <tr>\n",
       "      <th>1</th>\n",
       "      <td>p069063</td>\n",
       "      <td>Bouncy Bands for Desks (Blue support pipes)</td>\n",
       "      <td>3</td>\n",
       "      <td>14.95</td>\n",
       "    </tr>\n",
       "    <tr>\n",
       "      <th>2</th>\n",
       "      <td>p069063</td>\n",
       "      <td>Cory Stories: A Kid's Book About Living With Adhd</td>\n",
       "      <td>1</td>\n",
       "      <td>8.45</td>\n",
       "    </tr>\n",
       "    <tr>\n",
       "      <th>3</th>\n",
       "      <td>p069063</td>\n",
       "      <td>Dixon Ticonderoga Wood-Cased #2 HB Pencils, Bo...</td>\n",
       "      <td>2</td>\n",
       "      <td>13.59</td>\n",
       "    </tr>\n",
       "    <tr>\n",
       "      <th>4</th>\n",
       "      <td>p069063</td>\n",
       "      <td>EDUCATIONAL INSIGHTS FLUORESCENT LIGHT FILTERS...</td>\n",
       "      <td>3</td>\n",
       "      <td>24.95</td>\n",
       "    </tr>\n",
       "  </tbody>\n",
       "</table>\n",
       "</div>"
      ],
      "text/plain": [
       "        id                                        description  quantity  \\\n",
       "0  p233245  LC652 - Lakeshore Double-Space Mobile Drying Rack         1   \n",
       "1  p069063        Bouncy Bands for Desks (Blue support pipes)         3   \n",
       "2  p069063  Cory Stories: A Kid's Book About Living With Adhd         1   \n",
       "3  p069063  Dixon Ticonderoga Wood-Cased #2 HB Pencils, Bo...         2   \n",
       "4  p069063  EDUCATIONAL INSIGHTS FLUORESCENT LIGHT FILTERS...         3   \n",
       "\n",
       "    price  \n",
       "0  149.00  \n",
       "1   14.95  \n",
       "2    8.45  \n",
       "3   13.59  \n",
       "4   24.95  "
      ]
     },
     "execution_count": 15,
     "metadata": {},
     "output_type": "execute_result"
    }
   ],
   "source": [
    "resources_data.head()"
   ]
  },
  {
   "cell_type": "code",
   "execution_count": 16,
   "metadata": {
    "colab": {
     "autoexec": {
      "startup": false,
      "wait_interval": 0
     },
     "base_uri": "https://localhost:8080/",
     "height": 17
    },
    "colab_type": "code",
    "executionInfo": {
     "elapsed": 1076,
     "status": "ok",
     "timestamp": 1530368141372,
     "user": {
      "displayName": "matias cortes",
      "photoUrl": "https://lh3.googleusercontent.com/a/default-user=s128",
      "userId": "107469798896078848018"
     },
     "user_tz": 240
    },
    "id": "fre00xWVjFwk",
    "outputId": "0f1ffc0b-e7c5-433b-9c97-b8cdb22cda81"
   },
   "outputs": [],
   "source": [
    "res_prices = pd.pivot_table(resources_data,\n",
    "                   index=[\"id\"],\n",
    "                   values=[\"quantity\",\"price\"],\n",
    "                   aggfunc=np.sum)"
   ]
  },
  {
   "cell_type": "code",
   "execution_count": 17,
   "metadata": {
    "colab": {
     "autoexec": {
      "startup": false,
      "wait_interval": 0
     },
     "base_uri": "https://localhost:8080/",
     "height": 238
    },
    "colab_type": "code",
    "executionInfo": {
     "elapsed": 852,
     "status": "ok",
     "timestamp": 1530362952360,
     "user": {
      "displayName": "matias cortes",
      "photoUrl": "https://lh3.googleusercontent.com/a/default-user=s128",
      "userId": "107469798896078848018"
     },
     "user_tz": 240
    },
    "id": "IzEmQ6YsjFw5",
    "outputId": "c03961cd-82af-4e5c-8471-e6cd0c7075ad",
    "scrolled": true
   },
   "outputs": [
    {
     "data": {
      "text/html": [
       "<div>\n",
       "<style scoped>\n",
       "    .dataframe tbody tr th:only-of-type {\n",
       "        vertical-align: middle;\n",
       "    }\n",
       "\n",
       "    .dataframe tbody tr th {\n",
       "        vertical-align: top;\n",
       "    }\n",
       "\n",
       "    .dataframe thead th {\n",
       "        text-align: right;\n",
       "    }\n",
       "</style>\n",
       "<table border=\"1\" class=\"dataframe\">\n",
       "  <thead>\n",
       "    <tr style=\"text-align: right;\">\n",
       "      <th></th>\n",
       "      <th>price</th>\n",
       "      <th>quantity</th>\n",
       "    </tr>\n",
       "    <tr>\n",
       "      <th>id</th>\n",
       "      <th></th>\n",
       "      <th></th>\n",
       "    </tr>\n",
       "  </thead>\n",
       "  <tbody>\n",
       "    <tr>\n",
       "      <th>p000001</th>\n",
       "      <td>459.56</td>\n",
       "      <td>7</td>\n",
       "    </tr>\n",
       "    <tr>\n",
       "      <th>p000002</th>\n",
       "      <td>515.89</td>\n",
       "      <td>21</td>\n",
       "    </tr>\n",
       "    <tr>\n",
       "      <th>p000003</th>\n",
       "      <td>298.97</td>\n",
       "      <td>4</td>\n",
       "    </tr>\n",
       "    <tr>\n",
       "      <th>p000004</th>\n",
       "      <td>1113.69</td>\n",
       "      <td>98</td>\n",
       "    </tr>\n",
       "    <tr>\n",
       "      <th>p000005</th>\n",
       "      <td>485.99</td>\n",
       "      <td>8</td>\n",
       "    </tr>\n",
       "  </tbody>\n",
       "</table>\n",
       "</div>"
      ],
      "text/plain": [
       "           price  quantity\n",
       "id                        \n",
       "p000001   459.56         7\n",
       "p000002   515.89        21\n",
       "p000003   298.97         4\n",
       "p000004  1113.69        98\n",
       "p000005   485.99         8"
      ]
     },
     "execution_count": 17,
     "metadata": {},
     "output_type": "execute_result"
    }
   ],
   "source": [
    "res_prices.head()"
   ]
  },
  {
   "cell_type": "code",
   "execution_count": 18,
   "metadata": {
    "colab": {
     "autoexec": {
      "startup": false,
      "wait_interval": 0
     },
     "base_uri": "https://localhost:8080/",
     "height": 17
    },
    "colab_type": "code",
    "executionInfo": {
     "elapsed": 1171,
     "status": "ok",
     "timestamp": 1530368146458,
     "user": {
      "displayName": "matias cortes",
      "photoUrl": "https://lh3.googleusercontent.com/a/default-user=s128",
      "userId": "107469798896078848018"
     },
     "user_tz": 240
    },
    "id": "j-ED78GqjFxS",
    "outputId": "a3ca4731-ccff-4a94-c8a1-ab89e377d958"
   },
   "outputs": [],
   "source": [
    "res_prices['id'] = res_prices.index"
   ]
  },
  {
   "cell_type": "code",
   "execution_count": 19,
   "metadata": {
    "colab": {
     "autoexec": {
      "startup": false,
      "wait_interval": 0
     },
     "base_uri": "https://localhost:8080/",
     "height": 86
    },
    "colab_type": "code",
    "executionInfo": {
     "elapsed": 869,
     "status": "ok",
     "timestamp": 1530362954779,
     "user": {
      "displayName": "matias cortes",
      "photoUrl": "https://lh3.googleusercontent.com/a/default-user=s128",
      "userId": "107469798896078848018"
     },
     "user_tz": 240
    },
    "id": "3Dh1W2vdjFxc",
    "outputId": "653fbab7-f14d-469c-b698-8050d843af06"
   },
   "outputs": [
    {
     "data": {
      "text/plain": [
       "price       float64\n",
       "quantity      int64\n",
       "id           object\n",
       "dtype: object"
      ]
     },
     "execution_count": 19,
     "metadata": {},
     "output_type": "execute_result"
    }
   ],
   "source": [
    "res_prices.dtypes"
   ]
  },
  {
   "cell_type": "code",
   "execution_count": 20,
   "metadata": {},
   "outputs": [
    {
     "name": "stdout",
     "output_type": "stream",
     "text": [
      "value counts res_prices: 260115 \n"
     ]
    }
   ],
   "source": [
    "print('value counts res_prices: {} '.format(len(res_prices)) )"
   ]
  },
  {
   "cell_type": "code",
   "execution_count": 21,
   "metadata": {
    "colab": {
     "autoexec": {
      "startup": false,
      "wait_interval": 0
     },
     "base_uri": "https://localhost:8080/",
     "height": 206
    },
    "colab_type": "code",
    "executionInfo": {
     "elapsed": 449,
     "status": "ok",
     "timestamp": 1530362955466,
     "user": {
      "displayName": "matias cortes",
      "photoUrl": "https://lh3.googleusercontent.com/a/default-user=s128",
      "userId": "107469798896078848018"
     },
     "user_tz": 240
    },
    "id": "I7RJDttXjFx6",
    "outputId": "66b08605-8754-4012-92d5-eff5c96cc833"
   },
   "outputs": [
    {
     "data": {
      "text/html": [
       "<div>\n",
       "<style scoped>\n",
       "    .dataframe tbody tr th:only-of-type {\n",
       "        vertical-align: middle;\n",
       "    }\n",
       "\n",
       "    .dataframe tbody tr th {\n",
       "        vertical-align: top;\n",
       "    }\n",
       "\n",
       "    .dataframe thead th {\n",
       "        text-align: right;\n",
       "    }\n",
       "</style>\n",
       "<table border=\"1\" class=\"dataframe\">\n",
       "  <thead>\n",
       "    <tr style=\"text-align: right;\">\n",
       "      <th></th>\n",
       "      <th>id</th>\n",
       "      <th>description</th>\n",
       "      <th>quantity</th>\n",
       "      <th>price</th>\n",
       "    </tr>\n",
       "  </thead>\n",
       "  <tbody>\n",
       "    <tr>\n",
       "      <th>0</th>\n",
       "      <td>p233245</td>\n",
       "      <td>LC652 - Lakeshore Double-Space Mobile Drying Rack</td>\n",
       "      <td>1</td>\n",
       "      <td>149.00</td>\n",
       "    </tr>\n",
       "    <tr>\n",
       "      <th>1</th>\n",
       "      <td>p069063</td>\n",
       "      <td>Bouncy Bands for Desks (Blue support pipes)</td>\n",
       "      <td>3</td>\n",
       "      <td>14.95</td>\n",
       "    </tr>\n",
       "    <tr>\n",
       "      <th>2</th>\n",
       "      <td>p069063</td>\n",
       "      <td>Cory Stories: A Kid's Book About Living With Adhd</td>\n",
       "      <td>1</td>\n",
       "      <td>8.45</td>\n",
       "    </tr>\n",
       "    <tr>\n",
       "      <th>3</th>\n",
       "      <td>p069063</td>\n",
       "      <td>Dixon Ticonderoga Wood-Cased #2 HB Pencils, Bo...</td>\n",
       "      <td>2</td>\n",
       "      <td>13.59</td>\n",
       "    </tr>\n",
       "    <tr>\n",
       "      <th>4</th>\n",
       "      <td>p069063</td>\n",
       "      <td>EDUCATIONAL INSIGHTS FLUORESCENT LIGHT FILTERS...</td>\n",
       "      <td>3</td>\n",
       "      <td>24.95</td>\n",
       "    </tr>\n",
       "  </tbody>\n",
       "</table>\n",
       "</div>"
      ],
      "text/plain": [
       "        id                                        description  quantity  \\\n",
       "0  p233245  LC652 - Lakeshore Double-Space Mobile Drying Rack         1   \n",
       "1  p069063        Bouncy Bands for Desks (Blue support pipes)         3   \n",
       "2  p069063  Cory Stories: A Kid's Book About Living With Adhd         1   \n",
       "3  p069063  Dixon Ticonderoga Wood-Cased #2 HB Pencils, Bo...         2   \n",
       "4  p069063  EDUCATIONAL INSIGHTS FLUORESCENT LIGHT FILTERS...         3   \n",
       "\n",
       "    price  \n",
       "0  149.00  \n",
       "1   14.95  \n",
       "2    8.45  \n",
       "3   13.59  \n",
       "4   24.95  "
      ]
     },
     "execution_count": 21,
     "metadata": {},
     "output_type": "execute_result"
    }
   ],
   "source": [
    "resources_data.head()"
   ]
  },
  {
   "cell_type": "code",
   "execution_count": 22,
   "metadata": {
    "colab": {
     "autoexec": {
      "startup": false,
      "wait_interval": 0
     },
     "base_uri": "https://localhost:8080/",
     "height": 0
    },
    "colab_type": "code",
    "executionInfo": {
     "elapsed": 886,
     "status": "ok",
     "timestamp": 1530368152364,
     "user": {
      "displayName": "matias cortes",
      "photoUrl": "https://lh3.googleusercontent.com/a/default-user=s128",
      "userId": "107469798896078848018"
     },
     "user_tz": 240
    },
    "id": "9-bKIgE-jFyi",
    "outputId": "35e26560-4969-4c2e-e30e-f57fc60d9e89"
   },
   "outputs": [],
   "source": [
    "resources_data.description = resources_data.description.apply(str)"
   ]
  },
  {
   "cell_type": "code",
   "execution_count": 23,
   "metadata": {
    "colab": {
     "autoexec": {
      "startup": false,
      "wait_interval": 0
     },
     "base_uri": "https://localhost:8080/",
     "height": 104
    },
    "colab_type": "code",
    "executionInfo": {
     "elapsed": 546,
     "status": "ok",
     "timestamp": 1530362957310,
     "user": {
      "displayName": "matias cortes",
      "photoUrl": "https://lh3.googleusercontent.com/a/default-user=s128",
      "userId": "107469798896078848018"
     },
     "user_tz": 240
    },
    "id": "ZLPtD8z_3UIL",
    "outputId": "e049017b-bc95-4157-9170-cbf4d3b57306"
   },
   "outputs": [
    {
     "data": {
      "text/plain": [
       "id              object\n",
       "description     object\n",
       "quantity         int64\n",
       "price          float64\n",
       "dtype: object"
      ]
     },
     "execution_count": 23,
     "metadata": {},
     "output_type": "execute_result"
    }
   ],
   "source": [
    "resources_data.dtypes"
   ]
  },
  {
   "cell_type": "code",
   "execution_count": 24,
   "metadata": {
    "colab": {
     "autoexec": {
      "startup": false,
      "wait_interval": 0
     },
     "base_uri": "https://localhost:8080/",
     "height": 17
    },
    "colab_type": "code",
    "executionInfo": {
     "elapsed": 17451,
     "status": "ok",
     "timestamp": 1530368173742,
     "user": {
      "displayName": "matias cortes",
      "photoUrl": "https://lh3.googleusercontent.com/a/default-user=s128",
      "userId": "107469798896078848018"
     },
     "user_tz": 240
    },
    "id": "lVsSfTHsjFzq",
    "outputId": "1b2d81f6-713a-4a47-d51b-dd176fb3e2f6"
   },
   "outputs": [],
   "source": [
    "res_desc = resources_data.groupby('id')['description'].apply(lambda x:' '.join(x))"
   ]
  },
  {
   "cell_type": "code",
   "execution_count": 25,
   "metadata": {
    "colab": {
     "autoexec": {
      "startup": false,
      "wait_interval": 0
     },
     "base_uri": "https://localhost:8080/",
     "height": 17
    },
    "colab_type": "code",
    "executionInfo": {
     "elapsed": 1249,
     "status": "ok",
     "timestamp": 1530368175573,
     "user": {
      "displayName": "matias cortes",
      "photoUrl": "https://lh3.googleusercontent.com/a/default-user=s128",
      "userId": "107469798896078848018"
     },
     "user_tz": 240
    },
    "id": "F_jEoGIm4DzG",
    "outputId": "3e1bad82-c170-4176-e40b-080b59b6c72e"
   },
   "outputs": [],
   "source": [
    "res_desc = pd.DataFrame(res_desc); res_desc['id'] = res_desc.index"
   ]
  },
  {
   "cell_type": "code",
   "execution_count": 26,
   "metadata": {
    "colab": {
     "autoexec": {
      "startup": false,
      "wait_interval": 0
     },
     "base_uri": "https://localhost:8080/",
     "height": 238
    },
    "colab_type": "code",
    "executionInfo": {
     "elapsed": 453,
     "status": "ok",
     "timestamp": 1530362975998,
     "user": {
      "displayName": "matias cortes",
      "photoUrl": "https://lh3.googleusercontent.com/a/default-user=s128",
      "userId": "107469798896078848018"
     },
     "user_tz": 240
    },
    "id": "ZS9hTQUm5gh2",
    "outputId": "ffd8b74f-d1f0-4fd7-a9fa-756cdec7bafe"
   },
   "outputs": [
    {
     "data": {
      "text/html": [
       "<div>\n",
       "<style scoped>\n",
       "    .dataframe tbody tr th:only-of-type {\n",
       "        vertical-align: middle;\n",
       "    }\n",
       "\n",
       "    .dataframe tbody tr th {\n",
       "        vertical-align: top;\n",
       "    }\n",
       "\n",
       "    .dataframe thead th {\n",
       "        text-align: right;\n",
       "    }\n",
       "</style>\n",
       "<table border=\"1\" class=\"dataframe\">\n",
       "  <thead>\n",
       "    <tr style=\"text-align: right;\">\n",
       "      <th></th>\n",
       "      <th>description</th>\n",
       "      <th>id</th>\n",
       "    </tr>\n",
       "    <tr>\n",
       "      <th>id</th>\n",
       "      <th></th>\n",
       "      <th></th>\n",
       "    </tr>\n",
       "  </thead>\n",
       "  <tbody>\n",
       "    <tr>\n",
       "      <th>p000001</th>\n",
       "      <td>Cap Barbell 300 Pound Olympic Set, Grey Cap Ba...</td>\n",
       "      <td>p000001</td>\n",
       "    </tr>\n",
       "    <tr>\n",
       "      <th>p000002</th>\n",
       "      <td>10 Sony Headphones (BUY 9 GET 1 FREE) Belkin 6...</td>\n",
       "      <td>p000002</td>\n",
       "    </tr>\n",
       "    <tr>\n",
       "      <th>p000003</th>\n",
       "      <td>EE820X - Phonemic Awareness Instant Learning C...</td>\n",
       "      <td>p000003</td>\n",
       "    </tr>\n",
       "    <tr>\n",
       "      <th>p000004</th>\n",
       "      <td>A Bad Case of the Giggles Poems That Will Make...</td>\n",
       "      <td>p000004</td>\n",
       "    </tr>\n",
       "    <tr>\n",
       "      <th>p000005</th>\n",
       "      <td>Fitbit Zip Wireless Activity Tracker, Lime Fit...</td>\n",
       "      <td>p000005</td>\n",
       "    </tr>\n",
       "  </tbody>\n",
       "</table>\n",
       "</div>"
      ],
      "text/plain": [
       "                                               description       id\n",
       "id                                                                 \n",
       "p000001  Cap Barbell 300 Pound Olympic Set, Grey Cap Ba...  p000001\n",
       "p000002  10 Sony Headphones (BUY 9 GET 1 FREE) Belkin 6...  p000002\n",
       "p000003  EE820X - Phonemic Awareness Instant Learning C...  p000003\n",
       "p000004  A Bad Case of the Giggles Poems That Will Make...  p000004\n",
       "p000005  Fitbit Zip Wireless Activity Tracker, Lime Fit...  p000005"
      ]
     },
     "execution_count": 26,
     "metadata": {},
     "output_type": "execute_result"
    }
   ],
   "source": [
    "res_desc.head()"
   ]
  },
  {
   "cell_type": "code",
   "execution_count": 27,
   "metadata": {},
   "outputs": [
    {
     "name": "stdout",
     "output_type": "stream",
     "text": [
      "value counts res_desc: 260115 \n"
     ]
    }
   ],
   "source": [
    "print('value counts res_desc: {} '.format(len(res_desc)) )"
   ]
  },
  {
   "cell_type": "code",
   "execution_count": 28,
   "metadata": {
    "colab": {
     "autoexec": {
      "startup": false,
      "wait_interval": 0
     },
     "base_uri": "https://localhost:8080/",
     "height": 238
    },
    "colab_type": "code",
    "executionInfo": {
     "elapsed": 564,
     "status": "ok",
     "timestamp": 1530362976804,
     "user": {
      "displayName": "matias cortes",
      "photoUrl": "https://lh3.googleusercontent.com/a/default-user=s128",
      "userId": "107469798896078848018"
     },
     "user_tz": 240
    },
    "id": "IVeMsLKj5KwE",
    "outputId": "4328e6eb-750a-47f7-a56f-02f914f1ea78"
   },
   "outputs": [
    {
     "data": {
      "text/html": [
       "<div>\n",
       "<style scoped>\n",
       "    .dataframe tbody tr th:only-of-type {\n",
       "        vertical-align: middle;\n",
       "    }\n",
       "\n",
       "    .dataframe tbody tr th {\n",
       "        vertical-align: top;\n",
       "    }\n",
       "\n",
       "    .dataframe thead th {\n",
       "        text-align: right;\n",
       "    }\n",
       "</style>\n",
       "<table border=\"1\" class=\"dataframe\">\n",
       "  <thead>\n",
       "    <tr style=\"text-align: right;\">\n",
       "      <th></th>\n",
       "      <th>price</th>\n",
       "      <th>quantity</th>\n",
       "      <th>id</th>\n",
       "    </tr>\n",
       "    <tr>\n",
       "      <th>id</th>\n",
       "      <th></th>\n",
       "      <th></th>\n",
       "      <th></th>\n",
       "    </tr>\n",
       "  </thead>\n",
       "  <tbody>\n",
       "    <tr>\n",
       "      <th>p000001</th>\n",
       "      <td>459.56</td>\n",
       "      <td>7</td>\n",
       "      <td>p000001</td>\n",
       "    </tr>\n",
       "    <tr>\n",
       "      <th>p000002</th>\n",
       "      <td>515.89</td>\n",
       "      <td>21</td>\n",
       "      <td>p000002</td>\n",
       "    </tr>\n",
       "    <tr>\n",
       "      <th>p000003</th>\n",
       "      <td>298.97</td>\n",
       "      <td>4</td>\n",
       "      <td>p000003</td>\n",
       "    </tr>\n",
       "    <tr>\n",
       "      <th>p000004</th>\n",
       "      <td>1113.69</td>\n",
       "      <td>98</td>\n",
       "      <td>p000004</td>\n",
       "    </tr>\n",
       "    <tr>\n",
       "      <th>p000005</th>\n",
       "      <td>485.99</td>\n",
       "      <td>8</td>\n",
       "      <td>p000005</td>\n",
       "    </tr>\n",
       "  </tbody>\n",
       "</table>\n",
       "</div>"
      ],
      "text/plain": [
       "           price  quantity       id\n",
       "id                                 \n",
       "p000001   459.56         7  p000001\n",
       "p000002   515.89        21  p000002\n",
       "p000003   298.97         4  p000003\n",
       "p000004  1113.69        98  p000004\n",
       "p000005   485.99         8  p000005"
      ]
     },
     "execution_count": 28,
     "metadata": {},
     "output_type": "execute_result"
    }
   ],
   "source": [
    "res_prices.head()"
   ]
  },
  {
   "cell_type": "code",
   "execution_count": 29,
   "metadata": {
    "colab": {
     "autoexec": {
      "startup": false,
      "wait_interval": 0
     },
     "base_uri": "https://localhost:8080/",
     "height": 17
    },
    "colab_type": "code",
    "executionInfo": {
     "elapsed": 949,
     "status": "ok",
     "timestamp": 1530368180712,
     "user": {
      "displayName": "matias cortes",
      "photoUrl": "https://lh3.googleusercontent.com/a/default-user=s128",
      "userId": "107469798896078848018"
     },
     "user_tz": 240
    },
    "id": "_Scbus704Zue",
    "outputId": "234ffbab-dd59-4101-b735-ce4fedda9bc6"
   },
   "outputs": [
    {
     "name": "stderr",
     "output_type": "stream",
     "text": [
      "/home/paperspace/anaconda3/envs/fastai/lib/python3.6/site-packages/IPython/core/interactiveshell.py:2963: FutureWarning: 'id' is both an index level and a column label.\n",
      "Defaulting to column, but this will raise an ambiguity error in a future version\n",
      "  exec(code_obj, self.user_global_ns, self.user_ns)\n"
     ]
    }
   ],
   "source": [
    "all_rs_data = pd.merge(res_desc,res_prices,how='left', on='id')"
   ]
  },
  {
   "cell_type": "code",
   "execution_count": 30,
   "metadata": {
    "colab": {
     "autoexec": {
      "startup": false,
      "wait_interval": 0
     },
     "base_uri": "https://localhost:8080/",
     "height": 206
    },
    "colab_type": "code",
    "executionInfo": {
     "elapsed": 457,
     "status": "ok",
     "timestamp": 1530362978158,
     "user": {
      "displayName": "matias cortes",
      "photoUrl": "https://lh3.googleusercontent.com/a/default-user=s128",
      "userId": "107469798896078848018"
     },
     "user_tz": 240
    },
    "id": "ttPLkwdQ4Z6_",
    "outputId": "fd8d0201-1f78-4e47-d5a6-527b91d3f1f4"
   },
   "outputs": [
    {
     "data": {
      "text/html": [
       "<div>\n",
       "<style scoped>\n",
       "    .dataframe tbody tr th:only-of-type {\n",
       "        vertical-align: middle;\n",
       "    }\n",
       "\n",
       "    .dataframe tbody tr th {\n",
       "        vertical-align: top;\n",
       "    }\n",
       "\n",
       "    .dataframe thead th {\n",
       "        text-align: right;\n",
       "    }\n",
       "</style>\n",
       "<table border=\"1\" class=\"dataframe\">\n",
       "  <thead>\n",
       "    <tr style=\"text-align: right;\">\n",
       "      <th></th>\n",
       "      <th>description</th>\n",
       "      <th>id</th>\n",
       "      <th>price</th>\n",
       "      <th>quantity</th>\n",
       "    </tr>\n",
       "  </thead>\n",
       "  <tbody>\n",
       "    <tr>\n",
       "      <th>0</th>\n",
       "      <td>Cap Barbell 300 Pound Olympic Set, Grey Cap Ba...</td>\n",
       "      <td>p000001</td>\n",
       "      <td>459.56</td>\n",
       "      <td>7</td>\n",
       "    </tr>\n",
       "    <tr>\n",
       "      <th>1</th>\n",
       "      <td>10 Sony Headphones (BUY 9 GET 1 FREE) Belkin 6...</td>\n",
       "      <td>p000002</td>\n",
       "      <td>515.89</td>\n",
       "      <td>21</td>\n",
       "    </tr>\n",
       "    <tr>\n",
       "      <th>2</th>\n",
       "      <td>EE820X - Phonemic Awareness Instant Learning C...</td>\n",
       "      <td>p000003</td>\n",
       "      <td>298.97</td>\n",
       "      <td>4</td>\n",
       "    </tr>\n",
       "    <tr>\n",
       "      <th>3</th>\n",
       "      <td>A Bad Case of the Giggles Poems That Will Make...</td>\n",
       "      <td>p000004</td>\n",
       "      <td>1113.69</td>\n",
       "      <td>98</td>\n",
       "    </tr>\n",
       "    <tr>\n",
       "      <th>4</th>\n",
       "      <td>Fitbit Zip Wireless Activity Tracker, Lime Fit...</td>\n",
       "      <td>p000005</td>\n",
       "      <td>485.99</td>\n",
       "      <td>8</td>\n",
       "    </tr>\n",
       "  </tbody>\n",
       "</table>\n",
       "</div>"
      ],
      "text/plain": [
       "                                         description       id    price  \\\n",
       "0  Cap Barbell 300 Pound Olympic Set, Grey Cap Ba...  p000001   459.56   \n",
       "1  10 Sony Headphones (BUY 9 GET 1 FREE) Belkin 6...  p000002   515.89   \n",
       "2  EE820X - Phonemic Awareness Instant Learning C...  p000003   298.97   \n",
       "3  A Bad Case of the Giggles Poems That Will Make...  p000004  1113.69   \n",
       "4  Fitbit Zip Wireless Activity Tracker, Lime Fit...  p000005   485.99   \n",
       "\n",
       "   quantity  \n",
       "0         7  \n",
       "1        21  \n",
       "2         4  \n",
       "3        98  \n",
       "4         8  "
      ]
     },
     "execution_count": 30,
     "metadata": {},
     "output_type": "execute_result"
    }
   ],
   "source": [
    "all_rs_data.head()"
   ]
  },
  {
   "cell_type": "code",
   "execution_count": 31,
   "metadata": {},
   "outputs": [
    {
     "name": "stdout",
     "output_type": "stream",
     "text": [
      "value counts all_rs_data: 260115 \n"
     ]
    }
   ],
   "source": [
    "print('value counts all_rs_data: {} '.format(len(all_rs_data)) )"
   ]
  },
  {
   "cell_type": "code",
   "execution_count": 32,
   "metadata": {
    "colab": {
     "autoexec": {
      "startup": false,
      "wait_interval": 0
     },
     "base_uri": "https://localhost:8080/",
     "height": 17
    },
    "colab_type": "code",
    "executionInfo": {
     "elapsed": 652,
     "status": "ok",
     "timestamp": 1530368183774,
     "user": {
      "displayName": "matias cortes",
      "photoUrl": "https://lh3.googleusercontent.com/a/default-user=s128",
      "userId": "107469798896078848018"
     },
     "user_tz": 240
    },
    "id": "Ew5ZYXj5jF0A",
    "outputId": "05116cb6-e91b-4abc-de1f-92b2806180b2"
   },
   "outputs": [],
   "source": [
    "all_data = pd.merge(train_data, all_rs_data, how='left', on='id')"
   ]
  },
  {
   "cell_type": "code",
   "execution_count": 33,
   "metadata": {
    "colab": {
     "autoexec": {
      "startup": false,
      "wait_interval": 0
     },
     "base_uri": "https://localhost:8080/",
     "height": 574
    },
    "colab_type": "code",
    "executionInfo": {
     "elapsed": 483,
     "status": "ok",
     "timestamp": 1530362979741,
     "user": {
      "displayName": "matias cortes",
      "photoUrl": "https://lh3.googleusercontent.com/a/default-user=s128",
      "userId": "107469798896078848018"
     },
     "user_tz": 240
    },
    "id": "joy0ya3IjF0V",
    "outputId": "06774ac0-c3d2-4c71-af3d-fc6132a9a137"
   },
   "outputs": [
    {
     "name": "stdout",
     "output_type": "stream",
     "text": [
      "value counts all_data_test: 182080 \n"
     ]
    }
   ],
   "source": [
    "print('value counts all_data_test: {} '.format(len(all_data)) )"
   ]
  },
  {
   "cell_type": "markdown",
   "metadata": {
    "colab_type": "text",
    "id": "Mx0fdsPTjFti"
   },
   "source": [
    "**Baseline model**\n",
    "\n",
    "Just numerical features"
   ]
  },
  {
   "cell_type": "code",
   "execution_count": 34,
   "metadata": {
    "colab": {
     "autoexec": {
      "startup": false,
      "wait_interval": 0
     },
     "base_uri": "https://localhost:8080/",
     "height": 0
    },
    "colab_type": "code",
    "executionInfo": {
     "elapsed": 401,
     "status": "ok",
     "timestamp": 1530362980354,
     "user": {
      "displayName": "matias cortes",
      "photoUrl": "https://lh3.googleusercontent.com/a/default-user=s128",
      "userId": "107469798896078848018"
     },
     "user_tz": 240
    },
    "id": "zx2_4CEXjFtp",
    "outputId": "f9550c5d-9db7-424c-a36d-e8f5cdc74368"
   },
   "outputs": [],
   "source": [
    "y = all_data.project_is_approved \n",
    "X = all_data[['teacher_number_of_previously_posted_projects','price','quantity']]"
   ]
  },
  {
   "cell_type": "code",
   "execution_count": 35,
   "metadata": {
    "colab": {
     "autoexec": {
      "startup": false,
      "wait_interval": 0
     },
     "base_uri": "https://localhost:8080/",
     "height": 17
    },
    "colab_type": "code",
    "executionInfo": {
     "elapsed": 439,
     "status": "ok",
     "timestamp": 1530362980975,
     "user": {
      "displayName": "matias cortes",
      "photoUrl": "https://lh3.googleusercontent.com/a/default-user=s128",
      "userId": "107469798896078848018"
     },
     "user_tz": 240
    },
    "id": "ueKLyYwojFt-",
    "outputId": "8e4118f2-3e99-4860-f2a7-59f7494431e0"
   },
   "outputs": [],
   "source": [
    "X_Train, X_Test, Y_Train, Y_Test = train_test_split(X, y, test_size = 0.25, random_state = 0)"
   ]
  },
  {
   "cell_type": "code",
   "execution_count": 36,
   "metadata": {
    "colab": {
     "autoexec": {
      "startup": false,
      "wait_interval": 0
     },
     "base_uri": "https://localhost:8080/",
     "height": 52
    },
    "colab_type": "code",
    "executionInfo": {
     "elapsed": 100896,
     "status": "ok",
     "timestamp": 1530363082048,
     "user": {
      "displayName": "matias cortes",
      "photoUrl": "https://lh3.googleusercontent.com/a/default-user=s128",
      "userId": "107469798896078848018"
     },
     "user_tz": 240
    },
    "id": "vAXnNJ_ljFuO",
    "outputId": "b95a89a3-f03a-4ea4-d6e2-b86ed182adf5"
   },
   "outputs": [
    {
     "name": "stdout",
     "output_type": "stream",
     "text": [
      "CPU times: user 4min 6s, sys: 7.48 s, total: 4min 13s\n",
      "Wall time: 35.3 s\n"
     ]
    }
   ],
   "source": [
    "%%time\n",
    "forest_model = RandomForestClassifier(n_estimators=1000, n_jobs=-1)\n",
    "forest_model.fit(X_Train, Y_Train)"
   ]
  },
  {
   "cell_type": "code",
   "execution_count": 37,
   "metadata": {
    "colab": {
     "autoexec": {
      "startup": false,
      "wait_interval": 0
     },
     "base_uri": "https://localhost:8080/",
     "height": 17
    },
    "colab_type": "code",
    "executionInfo": {
     "elapsed": 8943,
     "status": "ok",
     "timestamp": 1530363091149,
     "user": {
      "displayName": "matias cortes",
      "photoUrl": "https://lh3.googleusercontent.com/a/default-user=s128",
      "userId": "107469798896078848018"
     },
     "user_tz": 240
    },
    "id": "fvayFMrAYPYC",
    "outputId": "f4a10319-4bd1-4485-fe00-d588c14254f4"
   },
   "outputs": [],
   "source": [
    "forest_preds = forest_model.predict(X_Test)"
   ]
  },
  {
   "cell_type": "code",
   "execution_count": 38,
   "metadata": {
    "colab": {
     "autoexec": {
      "startup": false,
      "wait_interval": 0
     },
     "base_uri": "https://localhost:8080/",
     "height": 34
    },
    "colab_type": "code",
    "executionInfo": {
     "elapsed": 558,
     "status": "ok",
     "timestamp": 1530363092191,
     "user": {
      "displayName": "matias cortes",
      "photoUrl": "https://lh3.googleusercontent.com/a/default-user=s128",
      "userId": "107469798896078848018"
     },
     "user_tz": 240
    },
    "id": "Zce4gNXujFut",
    "outputId": "83694bb1-44f8-42dd-d3b5-f3a5d4942d6b"
   },
   "outputs": [
    {
     "name": "stdout",
     "output_type": "stream",
     "text": [
      "AUC: 0.5270580596572607\n"
     ]
    }
   ],
   "source": [
    "forest_auc = roc_auc_score(Y_Test, forest_preds)\n",
    "print('AUC:',forest_auc)"
   ]
  },
  {
   "cell_type": "code",
   "execution_count": 39,
   "metadata": {
    "colab": {
     "autoexec": {
      "startup": false,
      "wait_interval": 0
     },
     "base_uri": "https://localhost:8080/",
     "height": 52
    },
    "colab_type": "code",
    "executionInfo": {
     "elapsed": 1015,
     "status": "ok",
     "timestamp": 1530363093441,
     "user": {
      "displayName": "matias cortes",
      "photoUrl": "https://lh3.googleusercontent.com/a/default-user=s128",
      "userId": "107469798896078848018"
     },
     "user_tz": 240
    },
    "id": "t3mIPHXC7ORk",
    "outputId": "d3799698-ea50-4302-fe64-9cf65c9a9f74"
   },
   "outputs": [
    {
     "name": "stdout",
     "output_type": "stream",
     "text": [
      "Index(['teacher_number_of_previously_posted_projects', 'price', 'quantity'], dtype='object')\n",
      "[0.06979634 0.78611266 0.14409101]\n"
     ]
    }
   ],
   "source": [
    "print(X.columns)\n",
    "print(forest_model.feature_importances_)"
   ]
  },
  {
   "cell_type": "code",
   "execution_count": 40,
   "metadata": {
    "colab": {
     "autoexec": {
      "startup": false,
      "wait_interval": 0
     },
     "base_uri": "https://localhost:8080/",
     "height": 376
    },
    "colab_type": "code",
    "executionInfo": {
     "elapsed": 570,
     "status": "ok",
     "timestamp": 1530363094110,
     "user": {
      "displayName": "matias cortes",
      "photoUrl": "https://lh3.googleusercontent.com/a/default-user=s128",
      "userId": "107469798896078848018"
     },
     "user_tz": 240
    },
    "id": "WmfHuWKOjFvq",
    "outputId": "14bedc64-c127-4f2f-f07c-51397a53698c"
   },
   "outputs": [
    {
     "data": {
      "image/png": "[encoded data removed]",
      "text/plain": [
       "<Figure size 432x288 with 1 Axes>"
      ]
     },
     "metadata": {},
     "output_type": "display_data"
    }
   ],
   "source": [
    "fpr, tpr, threshold = metrics.roc_curve(Y_Test, forest_preds)\n",
    "roc_auc = metrics.auc(fpr, tpr)\n",
    "\n",
    "plt.title('Receiver Operating Characteristic')\n",
    "plt.plot(fpr, tpr, 'b', label = 'AUC = %0.2f' % roc_auc)\n",
    "plt.legend(loc = 'lower right')\n",
    "plt.plot([0, 1], [0, 1],'r--')\n",
    "plt.xlim([0, 1])\n",
    "plt.ylim([0, 1])\n",
    "plt.ylabel('True Positive Rate')\n",
    "plt.xlabel('False Positive Rate')\n",
    "plt.show()"
   ]
  },
  {
   "cell_type": "markdown",
   "metadata": {
    "colab_type": "text",
    "id": "jsmTkCod_Ax0"
   },
   "source": [
    "**Missing Values**"
   ]
  },
  {
   "cell_type": "code",
   "execution_count": 41,
   "metadata": {
    "colab": {
     "autoexec": {
      "startup": false,
      "wait_interval": 0
     },
     "base_uri": "https://localhost:8080/",
     "height": 382
    },
    "colab_type": "code",
    "executionInfo": {
     "elapsed": 856,
     "status": "ok",
     "timestamp": 1530368201671,
     "user": {
      "displayName": "matias cortes",
      "photoUrl": "https://lh3.googleusercontent.com/a/default-user=s128",
      "userId": "107469798896078848018"
     },
     "user_tz": 240
    },
    "id": "-L5NNv-F_GBo",
    "outputId": "f5ab0ec5-3314-4f22-edcd-f060b1b13ce1"
   },
   "outputs": [
    {
     "name": "stdout",
     "output_type": "stream",
     "text": [
      "Check for Percent of missing values in dataset\n"
     ]
    },
    {
     "data": {
      "text/plain": [
       "id                                               0.000000\n",
       "teacher_id                                       0.000000\n",
       "teacher_prefix                                   0.002197\n",
       "school_state                                     0.000000\n",
       "project_submitted_datetime                       0.000000\n",
       "project_grade_category                           0.000000\n",
       "project_subject_categories                       0.000000\n",
       "project_subject_subcategories                    0.000000\n",
       "project_title                                    0.000000\n",
       "project_essay_1                                  0.000000\n",
       "project_essay_2                                  0.000000\n",
       "project_essay_3                                 96.499341\n",
       "project_essay_4                                 96.499341\n",
       "project_resource_summary                         0.000000\n",
       "teacher_number_of_previously_posted_projects     0.000000\n",
       "project_is_approved                              0.000000\n",
       "description                                      0.000000\n",
       "price                                            0.000000\n",
       "quantity                                         0.000000\n",
       "dtype: float64"
      ]
     },
     "execution_count": 41,
     "metadata": {},
     "output_type": "execute_result"
    }
   ],
   "source": [
    "print(\"Check for Percent of missing values in dataset\")\n",
    "null_check=all_data.isnull().sum()\n",
    "(null_check/len(all_data))*100"
   ]
  },
  {
   "cell_type": "code",
   "execution_count": 42,
   "metadata": {
    "colab": {
     "autoexec": {
      "startup": false,
      "wait_interval": 0
     },
     "base_uri": "https://localhost:8080/",
     "height": 0
    },
    "colab_type": "code",
    "executionInfo": {
     "elapsed": 1171,
     "status": "ok",
     "timestamp": 1530368205763,
     "user": {
      "displayName": "matias cortes",
      "photoUrl": "https://lh3.googleusercontent.com/a/default-user=s128",
      "userId": "107469798896078848018"
     },
     "user_tz": 240
    },
    "id": "K6MQt4NsH62J",
    "outputId": "eddb2a3a-0e5a-4153-81ea-87fefea0b4e1"
   },
   "outputs": [],
   "source": [
    "all_data.teacher_prefix = all_data.teacher_prefix.fillna('Unknown')"
   ]
  },
  {
   "cell_type": "code",
   "execution_count": 43,
   "metadata": {
    "colab": {
     "autoexec": {
      "startup": false,
      "wait_interval": 0
     },
     "base_uri": "https://localhost:8080/",
     "height": 382
    },
    "colab_type": "code",
    "executionInfo": {
     "elapsed": 767,
     "status": "ok",
     "timestamp": 1530368209037,
     "user": {
      "displayName": "matias cortes",
      "photoUrl": "https://lh3.googleusercontent.com/a/default-user=s128",
      "userId": "107469798896078848018"
     },
     "user_tz": 240
    },
    "id": "iXoABllUJXSF",
    "outputId": "82d16430-7e3d-4de2-8196-de394a11b94c"
   },
   "outputs": [
    {
     "name": "stdout",
     "output_type": "stream",
     "text": [
      "Check for Percent of missing values in dataset\n"
     ]
    },
    {
     "data": {
      "text/plain": [
       "id                                               0.000000\n",
       "teacher_id                                       0.000000\n",
       "teacher_prefix                                   0.000000\n",
       "school_state                                     0.000000\n",
       "project_submitted_datetime                       0.000000\n",
       "project_grade_category                           0.000000\n",
       "project_subject_categories                       0.000000\n",
       "project_subject_subcategories                    0.000000\n",
       "project_title                                    0.000000\n",
       "project_essay_1                                  0.000000\n",
       "project_essay_2                                  0.000000\n",
       "project_essay_3                                 96.499341\n",
       "project_essay_4                                 96.499341\n",
       "project_resource_summary                         0.000000\n",
       "teacher_number_of_previously_posted_projects     0.000000\n",
       "project_is_approved                              0.000000\n",
       "description                                      0.000000\n",
       "price                                            0.000000\n",
       "quantity                                         0.000000\n",
       "dtype: float64"
      ]
     },
     "execution_count": 43,
     "metadata": {},
     "output_type": "execute_result"
    }
   ],
   "source": [
    "print(\"Check for Percent of missing values in dataset\")\n",
    "null_check=all_data.isnull().sum()\n",
    "(null_check/len(all_data))*100"
   ]
  },
  {
   "cell_type": "markdown",
   "metadata": {
    "colab_type": "text",
    "id": "oi3dBYP5Uick"
   },
   "source": [
    "Joining essay columns"
   ]
  },
  {
   "cell_type": "code",
   "execution_count": 44,
   "metadata": {
    "colab": {
     "autoexec": {
      "startup": false,
      "wait_interval": 0
     },
     "base_uri": "https://localhost:8080/",
     "height": 0
    },
    "colab_type": "code",
    "executionInfo": {
     "elapsed": 463,
     "status": "ok",
     "timestamp": 1530368213703,
     "user": {
      "displayName": "matias cortes",
      "photoUrl": "https://lh3.googleusercontent.com/a/default-user=s128",
      "userId": "107469798896078848018"
     },
     "user_tz": 240
    },
    "id": "GIo5AOJ-RXLZ",
    "outputId": "ae457f79-5714-4353-c459-3007341e080f"
   },
   "outputs": [],
   "source": [
    "all_data[['project_essay_3','project_essay_4']] = all_data[['project_essay_3','project_essay_4']].fillna('')"
   ]
  },
  {
   "cell_type": "code",
   "execution_count": 45,
   "metadata": {
    "colab": {
     "autoexec": {
      "startup": false,
      "wait_interval": 0
     },
     "base_uri": "https://localhost:8080/",
     "height": 364
    },
    "colab_type": "code",
    "executionInfo": {
     "elapsed": 864,
     "status": "ok",
     "timestamp": 1530363098152,
     "user": {
      "displayName": "matias cortes",
      "photoUrl": "https://lh3.googleusercontent.com/a/default-user=s128",
      "userId": "107469798896078848018"
     },
     "user_tz": 240
    },
    "id": "PsOuRLtQTCPA",
    "outputId": "f336e6fd-8fbb-4539-bde5-298253f7687e"
   },
   "outputs": [
    {
     "data": {
      "text/plain": [
       "id                                               object\n",
       "teacher_id                                       object\n",
       "teacher_prefix                                   object\n",
       "school_state                                     object\n",
       "project_submitted_datetime                       object\n",
       "project_grade_category                           object\n",
       "project_subject_categories                       object\n",
       "project_subject_subcategories                    object\n",
       "project_title                                    object\n",
       "project_essay_1                                  object\n",
       "project_essay_2                                  object\n",
       "project_essay_3                                  object\n",
       "project_essay_4                                  object\n",
       "project_resource_summary                         object\n",
       "teacher_number_of_previously_posted_projects      int64\n",
       "project_is_approved                               int64\n",
       "description                                      object\n",
       "price                                           float64\n",
       "quantity                                          int64\n",
       "dtype: object"
      ]
     },
     "execution_count": 45,
     "metadata": {},
     "output_type": "execute_result"
    }
   ],
   "source": [
    "all_data.dtypes"
   ]
  },
  {
   "cell_type": "code",
   "execution_count": 46,
   "metadata": {
    "colab": {
     "autoexec": {
      "startup": false,
      "wait_interval": 0
     },
     "base_uri": "https://localhost:8080/",
     "height": 0
    },
    "colab_type": "code",
    "executionInfo": {
     "elapsed": 4748,
     "status": "ok",
     "timestamp": 1530368221554,
     "user": {
      "displayName": "matias cortes",
      "photoUrl": "https://lh3.googleusercontent.com/a/default-user=s128",
      "userId": "107469798896078848018"
     },
     "user_tz": 240
    },
    "id": "o8JXX_xYJahV",
    "outputId": "74467895-149e-410c-a8ff-b82e9b09409f"
   },
   "outputs": [],
   "source": [
    "all_data['all_essay'] = all_data[['project_essay_1','project_essay_2','project_essay_3','project_essay_4']].apply(lambda x: ' '.join(x), axis=1)"
   ]
  },
  {
   "cell_type": "code",
   "execution_count": 47,
   "metadata": {
    "colab": {
     "autoexec": {
      "startup": false,
      "wait_interval": 0
     },
     "base_uri": "https://localhost:8080/",
     "height": 574
    },
    "colab_type": "code",
    "executionInfo": {
     "elapsed": 648,
     "status": "ok",
     "timestamp": 1530363103550,
     "user": {
      "displayName": "matias cortes",
      "photoUrl": "https://lh3.googleusercontent.com/a/default-user=s128",
      "userId": "107469798896078848018"
     },
     "user_tz": 240
    },
    "id": "SGJF-5tcPx0b",
    "outputId": "47f72b76-a403-44a4-b4b5-2a4f3224bf0f"
   },
   "outputs": [
    {
     "data": {
      "text/html": [
       "<div>\n",
       "<style scoped>\n",
       "    .dataframe tbody tr th:only-of-type {\n",
       "        vertical-align: middle;\n",
       "    }\n",
       "\n",
       "    .dataframe tbody tr th {\n",
       "        vertical-align: top;\n",
       "    }\n",
       "\n",
       "    .dataframe thead th {\n",
       "        text-align: right;\n",
       "    }\n",
       "</style>\n",
       "<table border=\"1\" class=\"dataframe\">\n",
       "  <thead>\n",
       "    <tr style=\"text-align: right;\">\n",
       "      <th></th>\n",
       "      <th>id</th>\n",
       "      <th>teacher_id</th>\n",
       "      <th>teacher_prefix</th>\n",
       "      <th>school_state</th>\n",
       "      <th>project_submitted_datetime</th>\n",
       "      <th>project_grade_category</th>\n",
       "      <th>project_subject_categories</th>\n",
       "      <th>project_subject_subcategories</th>\n",
       "      <th>project_title</th>\n",
       "      <th>project_essay_1</th>\n",
       "      <th>project_essay_2</th>\n",
       "      <th>project_essay_3</th>\n",
       "      <th>project_essay_4</th>\n",
       "      <th>project_resource_summary</th>\n",
       "      <th>teacher_number_of_previously_posted_projects</th>\n",
       "      <th>project_is_approved</th>\n",
       "      <th>description</th>\n",
       "      <th>price</th>\n",
       "      <th>quantity</th>\n",
       "      <th>all_essay</th>\n",
       "    </tr>\n",
       "  </thead>\n",
       "  <tbody>\n",
       "    <tr>\n",
       "      <th>0</th>\n",
       "      <td>p036502</td>\n",
       "      <td>484aaf11257089a66cfedc9461c6bd0a</td>\n",
       "      <td>Ms.</td>\n",
       "      <td>NV</td>\n",
       "      <td>2016-11-18 14:45:59</td>\n",
       "      <td>Grades PreK-2</td>\n",
       "      <td>Literacy &amp; Language</td>\n",
       "      <td>Literacy</td>\n",
       "      <td>Super Sight Word Centers</td>\n",
       "      <td>Most of my kindergarten students come from low...</td>\n",
       "      <td>I currently have a differentiated sight word c...</td>\n",
       "      <td></td>\n",
       "      <td></td>\n",
       "      <td>My students need 6 Ipod Nano's to create and d...</td>\n",
       "      <td>26</td>\n",
       "      <td>1</td>\n",
       "      <td>Apple - iPod nano� 16GB MP3 Player (8th Genera...</td>\n",
       "      <td>299.98</td>\n",
       "      <td>6</td>\n",
       "      <td>Most of my kindergarten students come from low...</td>\n",
       "    </tr>\n",
       "    <tr>\n",
       "      <th>1</th>\n",
       "      <td>p039565</td>\n",
       "      <td>df72a3ba8089423fa8a94be88060f6ed</td>\n",
       "      <td>Mrs.</td>\n",
       "      <td>GA</td>\n",
       "      <td>2017-04-26 15:57:28</td>\n",
       "      <td>Grades 3-5</td>\n",
       "      <td>Music &amp; The Arts, Health &amp; Sports</td>\n",
       "      <td>Performing Arts, Team Sports</td>\n",
       "      <td>Keep Calm and Dance On</td>\n",
       "      <td>Our elementary school is a culturally rich sch...</td>\n",
       "      <td>We strive to provide our diverse population of...</td>\n",
       "      <td></td>\n",
       "      <td></td>\n",
       "      <td>My students need matching shirts to wear for d...</td>\n",
       "      <td>1</td>\n",
       "      <td>0</td>\n",
       "      <td>Reebok Girls' Fashion Dance Graphic T-Shirt - ...</td>\n",
       "      <td>20.00</td>\n",
       "      <td>20</td>\n",
       "      <td>Our elementary school is a culturally rich sch...</td>\n",
       "    </tr>\n",
       "    <tr>\n",
       "      <th>2</th>\n",
       "      <td>p233823</td>\n",
       "      <td>a9b876a9252e08a55e3d894150f75ba3</td>\n",
       "      <td>Ms.</td>\n",
       "      <td>UT</td>\n",
       "      <td>2017-01-01 22:57:44</td>\n",
       "      <td>Grades 3-5</td>\n",
       "      <td>Math &amp; Science, Literacy &amp; Language</td>\n",
       "      <td>Applied Sciences, Literature &amp; Writing</td>\n",
       "      <td>Lets 3Doodle to Learn</td>\n",
       "      <td>Hello;\\r\\nMy name is Mrs. Brotherton. I teach ...</td>\n",
       "      <td>We are looking to add some 3Doodler to our cla...</td>\n",
       "      <td></td>\n",
       "      <td></td>\n",
       "      <td>My students need the 3doodler. We are an SEM s...</td>\n",
       "      <td>5</td>\n",
       "      <td>1</td>\n",
       "      <td>3doodler Start Full Edu Bundle</td>\n",
       "      <td>469.99</td>\n",
       "      <td>1</td>\n",
       "      <td>Hello;\\r\\nMy name is Mrs. Brotherton. I teach ...</td>\n",
       "    </tr>\n",
       "    <tr>\n",
       "      <th>3</th>\n",
       "      <td>p185307</td>\n",
       "      <td>525fdbb6ec7f538a48beebaa0a51b24f</td>\n",
       "      <td>Mr.</td>\n",
       "      <td>NC</td>\n",
       "      <td>2016-08-12 15:42:11</td>\n",
       "      <td>Grades 3-5</td>\n",
       "      <td>Health &amp; Sports</td>\n",
       "      <td>Health &amp; Wellness</td>\n",
       "      <td>\\\"Kid Inspired\\\" Equipment to Increase Activit...</td>\n",
       "      <td>My students are the greatest students but are ...</td>\n",
       "      <td>The student's project which is totally \\\"kid-i...</td>\n",
       "      <td></td>\n",
       "      <td></td>\n",
       "      <td>My students need balls and other activity equi...</td>\n",
       "      <td>16</td>\n",
       "      <td>0</td>\n",
       "      <td>BALL PG 4'' POLY SET OF 6 COLORS BALL PLAYGROU...</td>\n",
       "      <td>684.47</td>\n",
       "      <td>5</td>\n",
       "      <td>My students are the greatest students but are ...</td>\n",
       "    </tr>\n",
       "    <tr>\n",
       "      <th>4</th>\n",
       "      <td>p013780</td>\n",
       "      <td>a63b5547a7239eae4c1872670848e61a</td>\n",
       "      <td>Mr.</td>\n",
       "      <td>CA</td>\n",
       "      <td>2016-08-06 09:09:11</td>\n",
       "      <td>Grades 6-8</td>\n",
       "      <td>Health &amp; Sports</td>\n",
       "      <td>Health &amp; Wellness</td>\n",
       "      <td>We need clean water for our culinary arts class!</td>\n",
       "      <td>My students are athletes and students who are ...</td>\n",
       "      <td>For some reason in our kitchen the water comes...</td>\n",
       "      <td></td>\n",
       "      <td></td>\n",
       "      <td>My students need a water filtration system for...</td>\n",
       "      <td>42</td>\n",
       "      <td>1</td>\n",
       "      <td>Crown Berkey Water Filter With 2 Black and 2 P...</td>\n",
       "      <td>355.50</td>\n",
       "      <td>2</td>\n",
       "      <td>My students are athletes and students who are ...</td>\n",
       "    </tr>\n",
       "  </tbody>\n",
       "</table>\n",
       "</div>"
      ],
      "text/plain": [
       "        id                        teacher_id teacher_prefix school_state  \\\n",
       "0  p036502  484aaf11257089a66cfedc9461c6bd0a            Ms.           NV   \n",
       "1  p039565  df72a3ba8089423fa8a94be88060f6ed           Mrs.           GA   \n",
       "2  p233823  a9b876a9252e08a55e3d894150f75ba3            Ms.           UT   \n",
       "3  p185307  525fdbb6ec7f538a48beebaa0a51b24f            Mr.           NC   \n",
       "4  p013780  a63b5547a7239eae4c1872670848e61a            Mr.           CA   \n",
       "\n",
       "  project_submitted_datetime project_grade_category  \\\n",
       "0        2016-11-18 14:45:59          Grades PreK-2   \n",
       "1        2017-04-26 15:57:28             Grades 3-5   \n",
       "2        2017-01-01 22:57:44             Grades 3-5   \n",
       "3        2016-08-12 15:42:11             Grades 3-5   \n",
       "4        2016-08-06 09:09:11             Grades 6-8   \n",
       "\n",
       "            project_subject_categories  \\\n",
       "0                  Literacy & Language   \n",
       "1    Music & The Arts, Health & Sports   \n",
       "2  Math & Science, Literacy & Language   \n",
       "3                      Health & Sports   \n",
       "4                      Health & Sports   \n",
       "\n",
       "            project_subject_subcategories  \\\n",
       "0                                Literacy   \n",
       "1            Performing Arts, Team Sports   \n",
       "2  Applied Sciences, Literature & Writing   \n",
       "3                       Health & Wellness   \n",
       "4                       Health & Wellness   \n",
       "\n",
       "                                       project_title  \\\n",
       "0                           Super Sight Word Centers   \n",
       "1                             Keep Calm and Dance On   \n",
       "2                              Lets 3Doodle to Learn   \n",
       "3  \\\"Kid Inspired\\\" Equipment to Increase Activit...   \n",
       "4   We need clean water for our culinary arts class!   \n",
       "\n",
       "                                     project_essay_1  \\\n",
       "0  Most of my kindergarten students come from low...   \n",
       "1  Our elementary school is a culturally rich sch...   \n",
       "2  Hello;\\r\\nMy name is Mrs. Brotherton. I teach ...   \n",
       "3  My students are the greatest students but are ...   \n",
       "4  My students are athletes and students who are ...   \n",
       "\n",
       "                                     project_essay_2 project_essay_3  \\\n",
       "0  I currently have a differentiated sight word c...                   \n",
       "1  We strive to provide our diverse population of...                   \n",
       "2  We are looking to add some 3Doodler to our cla...                   \n",
       "3  The student's project which is totally \\\"kid-i...                   \n",
       "4  For some reason in our kitchen the water comes...                   \n",
       "\n",
       "  project_essay_4                           project_resource_summary  \\\n",
       "0                  My students need 6 Ipod Nano's to create and d...   \n",
       "1                  My students need matching shirts to wear for d...   \n",
       "2                  My students need the 3doodler. We are an SEM s...   \n",
       "3                  My students need balls and other activity equi...   \n",
       "4                  My students need a water filtration system for...   \n",
       "\n",
       "   teacher_number_of_previously_posted_projects  project_is_approved  \\\n",
       "0                                            26                    1   \n",
       "1                                             1                    0   \n",
       "2                                             5                    1   \n",
       "3                                            16                    0   \n",
       "4                                            42                    1   \n",
       "\n",
       "                                         description   price  quantity  \\\n",
       "0  Apple - iPod nano� 16GB MP3 Player (8th Genera...  299.98         6   \n",
       "1  Reebok Girls' Fashion Dance Graphic T-Shirt - ...   20.00        20   \n",
       "2                     3doodler Start Full Edu Bundle  469.99         1   \n",
       "3  BALL PG 4'' POLY SET OF 6 COLORS BALL PLAYGROU...  684.47         5   \n",
       "4  Crown Berkey Water Filter With 2 Black and 2 P...  355.50         2   \n",
       "\n",
       "                                           all_essay  \n",
       "0  Most of my kindergarten students come from low...  \n",
       "1  Our elementary school is a culturally rich sch...  \n",
       "2  Hello;\\r\\nMy name is Mrs. Brotherton. I teach ...  \n",
       "3  My students are the greatest students but are ...  \n",
       "4  My students are athletes and students who are ...  "
      ]
     },
     "execution_count": 47,
     "metadata": {},
     "output_type": "execute_result"
    }
   ],
   "source": [
    "all_data.head()"
   ]
  },
  {
   "cell_type": "code",
   "execution_count": 48,
   "metadata": {
    "colab": {
     "autoexec": {
      "startup": false,
      "wait_interval": 0
     },
     "base_uri": "https://localhost:8080/",
     "height": 17
    },
    "colab_type": "code",
    "executionInfo": {
     "elapsed": 1839,
     "status": "ok",
     "timestamp": 1530368229476,
     "user": {
      "displayName": "matias cortes",
      "photoUrl": "https://lh3.googleusercontent.com/a/default-user=s128",
      "userId": "107469798896078848018"
     },
     "user_tz": 240
    },
    "id": "ODudm-TYXouJ",
    "outputId": "c25bfb25-c561-4314-e718-6d87404eb02c"
   },
   "outputs": [],
   "source": [
    "all_data[\"project_submitted_datetime\"] = pd.to_datetime(all_data[\"project_submitted_datetime\"],format='%Y-%m-%d %H:%M:%S')"
   ]
  },
  {
   "cell_type": "markdown",
   "metadata": {},
   "source": [
    "**Date Features**"
   ]
  },
  {
   "cell_type": "code",
   "execution_count": 49,
   "metadata": {
    "colab": {
     "autoexec": {
      "startup": false,
      "wait_interval": 0
     },
     "base_uri": "https://localhost:8080/",
     "height": 382
    },
    "colab_type": "code",
    "executionInfo": {
     "elapsed": 480,
     "status": "ok",
     "timestamp": 1530363105819,
     "user": {
      "displayName": "matias cortes",
      "photoUrl": "https://lh3.googleusercontent.com/a/default-user=s128",
      "userId": "107469798896078848018"
     },
     "user_tz": 240
    },
    "id": "I4ax-o4vk4YE",
    "outputId": "bfd93f15-0164-406f-9c7e-b828239ff498"
   },
   "outputs": [
    {
     "data": {
      "text/plain": [
       "id                                                      object\n",
       "teacher_id                                              object\n",
       "teacher_prefix                                          object\n",
       "school_state                                            object\n",
       "project_submitted_datetime                      datetime64[ns]\n",
       "project_grade_category                                  object\n",
       "project_subject_categories                              object\n",
       "project_subject_subcategories                           object\n",
       "project_title                                           object\n",
       "project_essay_1                                         object\n",
       "project_essay_2                                         object\n",
       "project_essay_3                                         object\n",
       "project_essay_4                                         object\n",
       "project_resource_summary                                object\n",
       "teacher_number_of_previously_posted_projects             int64\n",
       "project_is_approved                                      int64\n",
       "description                                             object\n",
       "price                                                  float64\n",
       "quantity                                                 int64\n",
       "all_essay                                               object\n",
       "dtype: object"
      ]
     },
     "execution_count": 49,
     "metadata": {},
     "output_type": "execute_result"
    }
   ],
   "source": [
    "all_data.dtypes"
   ]
  },
  {
   "cell_type": "code",
   "execution_count": 50,
   "metadata": {
    "colab": {
     "autoexec": {
      "startup": false,
      "wait_interval": 0
     },
     "base_uri": "https://localhost:8080/",
     "height": 0
    },
    "colab_type": "code",
    "executionInfo": {
     "elapsed": 572,
     "status": "ok",
     "timestamp": 1530368265396,
     "user": {
      "displayName": "matias cortes",
      "photoUrl": "https://lh3.googleusercontent.com/a/default-user=s128",
      "userId": "107469798896078848018"
     },
     "user_tz": 240
    },
    "id": "8R16ewK7TWH2",
    "outputId": "8345a7a2-2c5b-453a-a8e9-a6dd71500632"
   },
   "outputs": [],
   "source": [
    "# extracting datetime features using datetime module \n",
    "all_data[\"Year\"] = all_data[\"project_submitted_datetime\"].dt.year\n",
    "all_data[\"Month\"] = all_data[\"project_submitted_datetime\"].dt.month\n",
    "all_data['Weekday'] = all_data['project_submitted_datetime'].dt.weekday\n",
    "all_data[\"Hour\"] = all_data[\"project_submitted_datetime\"].dt.hour\n",
    "all_data[\"Month_Day\"] = all_data['project_submitted_datetime'].dt.day\n",
    "all_data[\"Year_Day\"] = all_data['project_submitted_datetime'].dt.dayofyear\n"
   ]
  },
  {
   "cell_type": "code",
   "execution_count": 51,
   "metadata": {
    "colab": {
     "autoexec": {
      "startup": false,
      "wait_interval": 0
     },
     "base_uri": "https://localhost:8080/",
     "height": 17
    },
    "colab_type": "code",
    "executionInfo": {
     "elapsed": 1412,
     "status": "ok",
     "timestamp": 1530368268018,
     "user": {
      "displayName": "matias cortes",
      "photoUrl": "https://lh3.googleusercontent.com/a/default-user=s128",
      "userId": "107469798896078848018"
     },
     "user_tz": 240
    },
    "id": "I0QrZbc-QnYA",
    "outputId": "fbe6a821-897b-4d16-e568-f84f06268aea"
   },
   "outputs": [],
   "source": [
    "import datetime\n",
    "change_dt = datetime.datetime.fromtimestamp(time.mktime(time.strptime('2016-05-17 00:00:00', \"%Y-%m-%d %H:%M:%S\")))\n",
    "\n",
    "all_data[\"new_essay_version\"] = [1 if x>change_dt else 0 for x in all_data[\"project_submitted_datetime\"] ]"
   ]
  },
  {
   "cell_type": "markdown",
   "metadata": {
    "colab_type": "text",
    "id": "eZvVaEDfrj-T"
   },
   "source": [
    "**Text Features**"
   ]
  },
  {
   "cell_type": "code",
   "execution_count": 52,
   "metadata": {},
   "outputs": [],
   "source": [
    "import re\n",
    "def preprocess(string):\n",
    "   \n",
    "    string = re.sub(r'(\\\")', '', string)\n",
    "    string = re.sub(r'(\\r)', '', string)\n",
    "    string = re.sub(r'(\\n)', '', string)\n",
    "    string = re.sub(r'(\\r\\n)','', string)\n",
    "    string = re.sub(r'(\\\\)', '', string)\n",
    "    string = re.sub(r'\\t', '', string)\n",
    "    string = re.sub(r'\\:', '', string)\n",
    "    string = re.sub(r'\\\"\\\"\\\"\\\"', '', string)\n",
    "    string = re.sub(r'_', '', string)\n",
    "    string = re.sub(r'\\+', '', string)\n",
    "    string = re.sub(r'\\=', '', string)\n",
    "    string = re.sub(r'\\r\\n', '', string)\n",
    "    string = re.sub(r'\\r\\n\\r\\n', '', string)\n",
    "    string = re.sub(r'rnrn', '', string)\n",
    "    \n",
    "\n",
    "    return string\n",
    "\n",
    "all_data[\"all_essay\"]=all_data[\"all_essay\"].apply(preprocess)\n",
    "all_data[\"project_title\"]=all_data[\"project_title\"].apply(preprocess)\n",
    "\n",
    "all_data[\"all_essay\"]=all_data[\"all_essay\"].str.strip()\n",
    "all_data[\"project_title\"]=all_data[\"project_title\"].str.strip()\n",
    "\n",
    "all_data['all_essay'] = all_data['all_essay'].apply(lambda x: \" \".join(x.split()))\n",
    "all_data['project_title'] = all_data['project_title'].apply(lambda x: \" \".join(x.split()))"
   ]
  },
  {
   "cell_type": "code",
   "execution_count": 53,
   "metadata": {
    "colab": {
     "autoexec": {
      "startup": false,
      "wait_interval": 0
     },
     "base_uri": "https://localhost:8080/",
     "height": 17
    },
    "colab_type": "code",
    "executionInfo": {
     "elapsed": 490,
     "status": "ok",
     "timestamp": 1530368269212,
     "user": {
      "displayName": "matias cortes",
      "photoUrl": "https://lh3.googleusercontent.com/a/default-user=s128",
      "userId": "107469798896078848018"
     },
     "user_tz": 240
    },
    "id": "zsGUZcAirsIU",
    "outputId": "14d59012-eab5-4c1c-973b-5e75294f1034"
   },
   "outputs": [],
   "source": [
    "all_data['char_count_essays'] = all_data['all_essay'].apply(len)"
   ]
  },
  {
   "cell_type": "code",
   "execution_count": 54,
   "metadata": {
    "colab": {
     "autoexec": {
      "startup": false,
      "wait_interval": 0
     },
     "base_uri": "https://localhost:8080/",
     "height": 17
    },
    "colab_type": "code",
    "executionInfo": {
     "elapsed": 3059,
     "status": "ok",
     "timestamp": 1530368272969,
     "user": {
      "displayName": "matias cortes",
      "photoUrl": "https://lh3.googleusercontent.com/a/default-user=s128",
      "userId": "107469798896078848018"
     },
     "user_tz": 240
    },
    "id": "kXB8FFznzBtC",
    "outputId": "9e222780-e87d-4047-a775-91d4e041f235"
   },
   "outputs": [],
   "source": [
    "all_data['word_count'] = all_data['all_essay'].apply(lambda x: len(x.split()))"
   ]
  },
  {
   "cell_type": "code",
   "execution_count": 55,
   "metadata": {
    "colab": {
     "autoexec": {
      "startup": false,
      "wait_interval": 0
     },
     "base_uri": "https://localhost:8080/",
     "height": 0
    },
    "colab_type": "code",
    "executionInfo": {
     "elapsed": 22962,
     "status": "ok",
     "timestamp": 1530368296665,
     "user": {
      "displayName": "matias cortes",
      "photoUrl": "https://lh3.googleusercontent.com/a/default-user=s128",
      "userId": "107469798896078848018"
     },
     "user_tz": 240
    },
    "id": "2j4FojhPzcZr",
    "outputId": "07133935-14ed-4884-af37-3c507666607a"
   },
   "outputs": [],
   "source": [
    "import string\n",
    "all_data['punctuation_count'] = all_data['all_essay'].apply(lambda x: len(\"\".join(_ for _ in x if _ in string.punctuation)))"
   ]
  },
  {
   "cell_type": "code",
   "execution_count": 56,
   "metadata": {
    "colab": {
     "autoexec": {
      "startup": false,
      "wait_interval": 0
     },
     "base_uri": "https://localhost:8080/",
     "height": 17
    },
    "colab_type": "code",
    "executionInfo": {
     "elapsed": 447,
     "status": "ok",
     "timestamp": 1530368297613,
     "user": {
      "displayName": "matias cortes",
      "photoUrl": "https://lh3.googleusercontent.com/a/default-user=s128",
      "userId": "107469798896078848018"
     },
     "user_tz": 240
    },
    "id": "MZgnULEJ-DZj",
    "outputId": "9ad70dc2-6529-4dc7-9e0f-5f22fce09add"
   },
   "outputs": [],
   "source": [
    "all_data['title_word_count'] = all_data['project_title'].apply(lambda x: len(x.split()))"
   ]
  },
  {
   "cell_type": "code",
   "execution_count": 57,
   "metadata": {
    "colab": {
     "autoexec": {
      "startup": false,
      "wait_interval": 0
     },
     "base_uri": "https://localhost:8080/",
     "height": 17
    },
    "colab_type": "code",
    "executionInfo": {
     "elapsed": 92303,
     "status": "ok",
     "timestamp": 1530368391585,
     "user": {
      "displayName": "matias cortes",
      "photoUrl": "https://lh3.googleusercontent.com/a/default-user=s128",
      "userId": "107469798896078848018"
     },
     "user_tz": 240
    },
    "id": "yHy-TuwdCiyu",
    "outputId": "312f560e-8fc3-42a1-cbc8-78d6510cd8af"
   },
   "outputs": [],
   "source": [
    "stop_words = list(set(stopwords.words('english')))\n",
    "all_data['stopword_count_essays'] = all_data['all_essay'].apply(lambda x: len([wrd for wrd in x.split() if wrd.lower() in stop_words]))"
   ]
  },
  {
   "cell_type": "code",
   "execution_count": 58,
   "metadata": {},
   "outputs": [
    {
     "data": {
      "text/plain": [
       "count    182080.000000\n",
       "mean       1508.265685\n",
       "std         393.545016\n",
       "min         417.000000\n",
       "25%        1202.000000\n",
       "50%        1402.000000\n",
       "75%        1722.000000\n",
       "max        4885.000000\n",
       "Name: char_count_essays, dtype: float64"
      ]
     },
     "execution_count": 58,
     "metadata": {},
     "output_type": "execute_result"
    }
   ],
   "source": [
    "all_data['char_count_essays'].describe()"
   ]
  },
  {
   "cell_type": "code",
   "execution_count": 59,
   "metadata": {
    "colab": {
     "autoexec": {
      "startup": false,
      "wait_interval": 0
     },
     "base_uri": "https://localhost:8080/",
     "height": 17
    },
    "colab_type": "code",
    "executionInfo": {
     "elapsed": 95025,
     "status": "ok",
     "timestamp": 1530368489995,
     "user": {
      "displayName": "matias cortes",
      "photoUrl": "https://lh3.googleusercontent.com/a/default-user=s128",
      "userId": "107469798896078848018"
     },
     "user_tz": 240
    },
    "id": "bjbSDhTAHPCL",
    "outputId": "543e35aa-9eb2-40d6-970c-b750f2c14b5a"
   },
   "outputs": [],
   "source": [
    "from textblob import TextBlob\n",
    "all_data['title_polarity'] = all_data['project_title'].apply(lambda x: TextBlob(x).sentiment.polarity)"
   ]
  },
  {
   "cell_type": "code",
   "execution_count": 60,
   "metadata": {
    "colab": {
     "autoexec": {
      "startup": false,
      "wait_interval": 0
     },
     "base_uri": "https://localhost:8080/",
     "height": 17
    },
    "colab_type": "code",
    "executionInfo": {
     "elapsed": 94365,
     "status": "ok",
     "timestamp": 1530368585095,
     "user": {
      "displayName": "matias cortes",
      "photoUrl": "https://lh3.googleusercontent.com/a/default-user=s128",
      "userId": "107469798896078848018"
     },
     "user_tz": 240
    },
    "id": "xpsllMjLHWCt",
    "outputId": "8e83cbc6-d79b-4cf5-cda7-b6211fc8317e"
   },
   "outputs": [],
   "source": [
    "all_data['title_subjectivity'] = all_data['project_title'].apply(lambda x: TextBlob(x).sentiment.subjectivity)"
   ]
  },
  {
   "cell_type": "code",
   "execution_count": 61,
   "metadata": {
    "colab": {
     "autoexec": {
      "startup": false,
      "wait_interval": 0
     },
     "base_uri": "https://localhost:8080/",
     "height": 17
    },
    "colab_type": "code",
    "executionInfo": {
     "elapsed": 1089,
     "status": "ok",
     "timestamp": 1530368587909,
     "user": {
      "displayName": "matias cortes",
      "photoUrl": "https://lh3.googleusercontent.com/a/default-user=s128",
      "userId": "107469798896078848018"
     },
     "user_tz": 240
    },
    "id": "X8gKU07ILFF3",
    "outputId": "d1b98629-6775-40f7-947c-333a73d61331"
   },
   "outputs": [
    {
     "data": {
      "text/plain": [
       "\"\\npos_dic = {\\n    'noun' : ['NN','NNS','NNP','NNPS'],\\n    'pron' : ['PRP','PRP$','WP','WP$'],\\n    'verb' : ['VB','VBD','VBG','VBN','VBP','VBZ'],\\n    'adj' :  ['JJ','JJR','JJS'],\\n    'adv' : ['RB','RBR','RBS','WRB']\\n}\\n\\n\\ndef pos_check(x, flag):\\n    mytext = nltk.word_tokenize(x)\\n    tags = nltk.pos_tag(mytext)\\n    cnt = 0\\n    try:\\n        for tup in tags:\\n            ppo = list(tup)[1]\\n            if ppo in pos_dic[flag]:\\n                cnt += 1\\n    except:\\n        pass\\n    return cnt\\n\""
      ]
     },
     "execution_count": 61,
     "metadata": {},
     "output_type": "execute_result"
    }
   ],
   "source": [
    "'''\n",
    "pos_dic = {\n",
    "    'noun' : ['NN','NNS','NNP','NNPS'],\n",
    "    'pron' : ['PRP','PRP$','WP','WP$'],\n",
    "    'verb' : ['VB','VBD','VBG','VBN','VBP','VBZ'],\n",
    "    'adj' :  ['JJ','JJR','JJS'],\n",
    "    'adv' : ['RB','RBR','RBS','WRB']\n",
    "}\n",
    "\n",
    "\n",
    "def pos_check(x, flag):\n",
    "    mytext = nltk.word_tokenize(x)\n",
    "    tags = nltk.pos_tag(mytext)\n",
    "    cnt = 0\n",
    "    try:\n",
    "        for tup in tags:\n",
    "            ppo = list(tup)[1]\n",
    "            if ppo in pos_dic[flag]:\n",
    "                cnt += 1\n",
    "    except:\n",
    "        pass\n",
    "    return cnt\n",
    "'''"
   ]
  },
  {
   "cell_type": "code",
   "execution_count": 62,
   "metadata": {
    "colab": {
     "autoexec": {
      "startup": false,
      "wait_interval": 0
     }
    },
    "colab_type": "code",
    "id": "8iucYQQKOxDz"
   },
   "outputs": [],
   "source": [
    "#all_data['noun_count_essay'] = all_data['all_essay'].apply(lambda x: pos_check(x, 'noun'))"
   ]
  },
  {
   "cell_type": "code",
   "execution_count": 63,
   "metadata": {
    "colab": {
     "autoexec": {
      "startup": false,
      "wait_interval": 0
     }
    },
    "colab_type": "code",
    "id": "5vTVdDiRO_3L"
   },
   "outputs": [],
   "source": [
    "#all_data['verb_count_essay'] = all_data['all_essay'].apply(lambda x: pos_check(x, 'verb'))\n",
    "#all_data['adj_count_essay'] = all_data['all_essay'].apply(lambda x: pos_check(x, 'adj'))\n",
    "#all_data['adv_count_essay'] = all_data['all_essay'].apply(lambda x: pos_check(x, 'adv'))\n",
    "#all_data['pron_count_essay'] = all_data['all_essay'].apply(lambda x: pos_check(x, 'pron'))"
   ]
  },
  {
   "cell_type": "code",
   "execution_count": 64,
   "metadata": {},
   "outputs": [],
   "source": [
    "# Creating the gender column\n",
    "gender_mapping = {\"Mrs.\": \"Female\", \"Ms.\":\"Female\", \"Mr.\":\"Male\", \"Teacher\":\"Unknown\", \"Dr.\":\"Unknown\", np.nan:\"Unknown\"  }\n",
    "all_data[\"gender\"] = all_data.teacher_prefix.map(gender_mapping)"
   ]
  },
  {
   "cell_type": "code",
   "execution_count": 65,
   "metadata": {},
   "outputs": [],
   "source": [
    "from sklearn import preprocessing\n",
    "def encode_features(df_train):\n",
    "    features = [\n",
    "    'teacher_id', \n",
    "    'teacher_prefix', \n",
    "    'school_state', \n",
    "    'project_grade_category',\n",
    "    'project_subject_categories', \n",
    "    'project_subject_subcategories',\n",
    "    'gender']\n",
    "    \n",
    "    \n",
    "    for feature in features:\n",
    "        le = preprocessing.LabelEncoder()\n",
    "        le = le.fit(df_train[feature].astype(str))\n",
    "        df_train[feature] = le.transform(df_train[feature].astype(str))\n",
    "        \n",
    "    return df_train\n",
    "    \n",
    "train_data_final = encode_features(all_data)"
   ]
  },
  {
   "cell_type": "markdown",
   "metadata": {},
   "source": [
    "Saving Progress"
   ]
  },
  {
   "cell_type": "code",
   "execution_count": 66,
   "metadata": {},
   "outputs": [],
   "source": [
    "outfile = open('after_sentiment','wb')\n",
    "pickle.dump(train_data_final,outfile)\n",
    "outfile.close()"
   ]
  },
  {
   "cell_type": "code",
   "execution_count": 67,
   "metadata": {},
   "outputs": [],
   "source": [
    "#infile = open('after_sentiment','rb')\n",
    "#train_data_final = pickle.load(infile)\n",
    "#infile.close()"
   ]
  },
  {
   "cell_type": "code",
   "execution_count": 68,
   "metadata": {},
   "outputs": [
    {
     "data": {
      "text/plain": [
       "182080"
      ]
     },
     "execution_count": 68,
     "metadata": {},
     "output_type": "execute_result"
    }
   ],
   "source": [
    "len(train_data_final)"
   ]
  },
  {
   "cell_type": "markdown",
   "metadata": {},
   "source": [
    "**TF-IDF features**"
   ]
  },
  {
   "cell_type": "code",
   "execution_count": 69,
   "metadata": {},
   "outputs": [],
   "source": [
    "from sklearn.feature_extraction.text import TfidfVectorizer\n",
    "vectorizer = TfidfVectorizer(stop_words=stopwords.words('english'),max_features=100)\n",
    "Y_vec_pt = vectorizer.fit_transform(train_data_final['project_title'])"
   ]
  },
  {
   "cell_type": "code",
   "execution_count": 70,
   "metadata": {},
   "outputs": [],
   "source": [
    "vectorizer2 = TfidfVectorizer(stop_words=stopwords.words('english'),max_features=1000)\n",
    "Y_vec_ess = vectorizer2.fit_transform(train_data_final['all_essay'])"
   ]
  },
  {
   "cell_type": "code",
   "execution_count": 71,
   "metadata": {},
   "outputs": [
    {
     "data": {
      "text/plain": [
       "['pt_21st',\n",
       " 'pt_active',\n",
       " 'pt_art',\n",
       " 'pt_book',\n",
       " 'pt_books',\n",
       " 'pt_building',\n",
       " 'pt_center',\n",
       " 'pt_centers',\n",
       " 'pt_century',\n",
       " 'pt_chromebooks',\n",
       " 'pt_class',\n",
       " 'pt_classroom',\n",
       " 'pt_create',\n",
       " 'pt_creating',\n",
       " 'pt_creative',\n",
       " 'pt_day',\n",
       " 'pt_education',\n",
       " 'pt_engaging',\n",
       " 'pt_first',\n",
       " 'pt_flexible',\n",
       " 'pt_fun',\n",
       " 'pt_future',\n",
       " 'pt_get',\n",
       " 'pt_getting',\n",
       " 'pt_go',\n",
       " 'pt_good',\n",
       " 'pt_grade',\n",
       " 'pt_graders',\n",
       " 'pt_great',\n",
       " 'pt_hands',\n",
       " 'pt_headphones',\n",
       " 'pt_healthy',\n",
       " 'pt_hear',\n",
       " 'pt_help',\n",
       " 'pt_interactive',\n",
       " 'pt_ipad',\n",
       " 'pt_ipads',\n",
       " 'pt_keep',\n",
       " 'pt_kids',\n",
       " 'pt_kindergarten',\n",
       " 'pt_learn',\n",
       " 'pt_learners',\n",
       " 'pt_learning',\n",
       " 'pt_let',\n",
       " 'pt_library',\n",
       " 'pt_life',\n",
       " 'pt_like',\n",
       " 'pt_listening',\n",
       " 'pt_literacy',\n",
       " 'pt_little',\n",
       " 'pt_love',\n",
       " 'pt_make',\n",
       " 'pt_making',\n",
       " 'pt_materials',\n",
       " 'pt_math',\n",
       " 'pt_minds',\n",
       " 'pt_move',\n",
       " 'pt_moving',\n",
       " 'pt_music',\n",
       " 'pt_need',\n",
       " 'pt_needed',\n",
       " 'pt_needs',\n",
       " 'pt_new',\n",
       " 'pt_oh',\n",
       " 'pt_one',\n",
       " 'pt_part',\n",
       " 'pt_place',\n",
       " 'pt_play',\n",
       " 'pt_please',\n",
       " 'pt_project',\n",
       " 'pt_read',\n",
       " 'pt_readers',\n",
       " 'pt_reading',\n",
       " 'pt_ready',\n",
       " 'pt_room',\n",
       " 'pt_school',\n",
       " 'pt_science',\n",
       " 'pt_seating',\n",
       " 'pt_sensory',\n",
       " 'pt_skills',\n",
       " 'pt_special',\n",
       " 'pt_steam',\n",
       " 'pt_stem',\n",
       " 'pt_student',\n",
       " 'pt_students',\n",
       " 'pt_success',\n",
       " 'pt_supplies',\n",
       " 'pt_tech',\n",
       " 'pt_technology',\n",
       " 'pt_time',\n",
       " 'pt_tools',\n",
       " 'pt_us',\n",
       " 'pt_using',\n",
       " 'pt_way',\n",
       " 'pt_wiggle',\n",
       " 'pt_wobble',\n",
       " 'pt_work',\n",
       " 'pt_world',\n",
       " 'pt_writing',\n",
       " 'pt_year']"
      ]
     },
     "execution_count": 71,
     "metadata": {},
     "output_type": "execute_result"
    }
   ],
   "source": [
    "pt_columns = ['pt_'+x for x in vectorizer.get_feature_names() ]\n",
    "pt_columns"
   ]
  },
  {
   "cell_type": "code",
   "execution_count": 72,
   "metadata": {},
   "outputs": [
    {
     "data": {
      "text/plain": [
       "['ess_10',\n",
       " 'ess_100',\n",
       " 'ess_12',\n",
       " 'ess_1st',\n",
       " 'ess_20',\n",
       " 'ess_21st',\n",
       " 'ess_25',\n",
       " 'ess_2nd',\n",
       " 'ess_30',\n",
       " 'ess_3d',\n",
       " 'ess_3rd',\n",
       " 'ess_4th',\n",
       " 'ess_50',\n",
       " 'ess_5th',\n",
       " 'ess_60',\n",
       " 'ess_6th',\n",
       " 'ess_7th',\n",
       " 'ess_8th',\n",
       " 'ess_90',\n",
       " 'ess_abilities',\n",
       " 'ess_ability',\n",
       " 'ess_able',\n",
       " 'ess_academic',\n",
       " 'ess_academically',\n",
       " 'ess_academics',\n",
       " 'ess_access',\n",
       " 'ess_accessible',\n",
       " 'ess_accomplish',\n",
       " 'ess_achieve',\n",
       " 'ess_achievement',\n",
       " 'ess_across',\n",
       " 'ess_active',\n",
       " 'ess_actively',\n",
       " 'ess_activities',\n",
       " 'ess_activity',\n",
       " 'ess_actually',\n",
       " 'ess_add',\n",
       " 'ess_adding',\n",
       " 'ess_addition',\n",
       " 'ess_additional',\n",
       " 'ess_adhd',\n",
       " 'ess_adults',\n",
       " 'ess_afford',\n",
       " 'ess_african',\n",
       " 'ess_age',\n",
       " 'ess_allow',\n",
       " 'ess_allowing',\n",
       " 'ess_allows',\n",
       " 'ess_almost',\n",
       " 'ess_along',\n",
       " 'ess_already',\n",
       " 'ess_also',\n",
       " 'ess_alternative',\n",
       " 'ess_although',\n",
       " 'ess_always',\n",
       " 'ess_amazing',\n",
       " 'ess_american',\n",
       " 'ess_among',\n",
       " 'ess_amount',\n",
       " 'ess_another',\n",
       " 'ess_answer',\n",
       " 'ess_anything',\n",
       " 'ess_applications',\n",
       " 'ess_apply',\n",
       " 'ess_appreciate',\n",
       " 'ess_approach',\n",
       " 'ess_appropriate',\n",
       " 'ess_approximately',\n",
       " 'ess_apps',\n",
       " 'ess_area',\n",
       " 'ess_areas',\n",
       " 'ess_around',\n",
       " 'ess_art',\n",
       " 'ess_arts',\n",
       " 'ess_ask',\n",
       " 'ess_asked',\n",
       " 'ess_asking',\n",
       " 'ess_assignments',\n",
       " 'ess_assist',\n",
       " 'ess_attend',\n",
       " 'ess_attention',\n",
       " 'ess_autism',\n",
       " 'ess_available',\n",
       " 'ess_away',\n",
       " 'ess_awesome',\n",
       " 'ess_back',\n",
       " 'ess_background',\n",
       " 'ess_backgrounds',\n",
       " 'ess_bags',\n",
       " 'ess_balance',\n",
       " 'ess_ball',\n",
       " 'ess_balls',\n",
       " 'ess_band',\n",
       " 'ess_bands',\n",
       " 'ess_based',\n",
       " 'ess_basic',\n",
       " 'ess_basis',\n",
       " 'ess_beautiful',\n",
       " 'ess_become',\n",
       " 'ess_becoming',\n",
       " 'ess_begin',\n",
       " 'ess_beginning',\n",
       " 'ess_behavior',\n",
       " 'ess_behind',\n",
       " 'ess_believe',\n",
       " 'ess_benefit',\n",
       " 'ess_benefits',\n",
       " 'ess_best',\n",
       " 'ess_better',\n",
       " 'ess_beyond',\n",
       " 'ess_big',\n",
       " 'ess_bilingual',\n",
       " 'ess_board',\n",
       " 'ess_boards',\n",
       " 'ess_bodies',\n",
       " 'ess_body',\n",
       " 'ess_book',\n",
       " 'ess_books',\n",
       " 'ess_box',\n",
       " 'ess_boys',\n",
       " 'ess_brain',\n",
       " 'ess_brains',\n",
       " 'ess_break',\n",
       " 'ess_breakfast',\n",
       " 'ess_breaks',\n",
       " 'ess_bright',\n",
       " 'ess_bring',\n",
       " 'ess_budget',\n",
       " 'ess_build',\n",
       " 'ess_building',\n",
       " 'ess_busy',\n",
       " 'ess_camera',\n",
       " 'ess_campus',\n",
       " 'ess_cannot',\n",
       " 'ess_care',\n",
       " 'ess_career',\n",
       " 'ess_careers',\n",
       " 'ess_caring',\n",
       " 'ess_carpet',\n",
       " 'ess_center',\n",
       " 'ess_centers',\n",
       " 'ess_century',\n",
       " 'ess_chair',\n",
       " 'ess_chairs',\n",
       " 'ess_challenge',\n",
       " 'ess_challenged',\n",
       " 'ess_challenges',\n",
       " 'ess_challenging',\n",
       " 'ess_chance',\n",
       " 'ess_change',\n",
       " 'ess_changing',\n",
       " 'ess_character',\n",
       " 'ess_characters',\n",
       " 'ess_charter',\n",
       " 'ess_child',\n",
       " 'ess_children',\n",
       " 'ess_choice',\n",
       " 'ess_choices',\n",
       " 'ess_choose',\n",
       " 'ess_chromebook',\n",
       " 'ess_chromebooks',\n",
       " 'ess_citizens',\n",
       " 'ess_city',\n",
       " 'ess_class',\n",
       " 'ess_classes',\n",
       " 'ess_classmates',\n",
       " 'ess_classroom',\n",
       " 'ess_classrooms',\n",
       " 'ess_clean',\n",
       " 'ess_close',\n",
       " 'ess_club',\n",
       " 'ess_code',\n",
       " 'ess_coding',\n",
       " 'ess_collaborate',\n",
       " 'ess_collaboration',\n",
       " 'ess_collaborative',\n",
       " 'ess_college',\n",
       " 'ess_color',\n",
       " 'ess_come',\n",
       " 'ess_comes',\n",
       " 'ess_comfortable',\n",
       " 'ess_coming',\n",
       " 'ess_common',\n",
       " 'ess_communicate',\n",
       " 'ess_communication',\n",
       " 'ess_community',\n",
       " 'ess_complete',\n",
       " 'ess_comprehension',\n",
       " 'ess_computer',\n",
       " 'ess_computers',\n",
       " 'ess_concepts',\n",
       " 'ess_confidence',\n",
       " 'ess_confident',\n",
       " 'ess_connect',\n",
       " 'ess_connections',\n",
       " 'ess_considered',\n",
       " 'ess_consists',\n",
       " 'ess_constantly',\n",
       " 'ess_content',\n",
       " 'ess_continue',\n",
       " 'ess_control',\n",
       " 'ess_core',\n",
       " 'ess_could',\n",
       " 'ess_countries',\n",
       " 'ess_country',\n",
       " 'ess_county',\n",
       " 'ess_course',\n",
       " 'ess_create',\n",
       " 'ess_created',\n",
       " 'ess_creating',\n",
       " 'ess_creative',\n",
       " 'ess_creativity',\n",
       " 'ess_critical',\n",
       " 'ess_cultural',\n",
       " 'ess_culture',\n",
       " 'ess_cultures',\n",
       " 'ess_curiosity',\n",
       " 'ess_curious',\n",
       " 'ess_current',\n",
       " 'ess_currently',\n",
       " 'ess_curriculum',\n",
       " 'ess_daily',\n",
       " 'ess_dance',\n",
       " 'ess_data',\n",
       " 'ess_day',\n",
       " 'ess_days',\n",
       " 'ess_dedicated',\n",
       " 'ess_deserve',\n",
       " 'ess_design',\n",
       " 'ess_designed',\n",
       " 'ess_desire',\n",
       " 'ess_desk',\n",
       " 'ess_desks',\n",
       " 'ess_despite',\n",
       " 'ess_develop',\n",
       " 'ess_developing',\n",
       " 'ess_development',\n",
       " 'ess_devices',\n",
       " 'ess_difference',\n",
       " 'ess_different',\n",
       " 'ess_difficult',\n",
       " 'ess_digital',\n",
       " 'ess_disabilities',\n",
       " 'ess_disadvantaged',\n",
       " 'ess_discover',\n",
       " 'ess_discuss',\n",
       " 'ess_discussions',\n",
       " 'ess_display',\n",
       " 'ess_district',\n",
       " 'ess_diverse',\n",
       " 'ess_diversity',\n",
       " 'ess_document',\n",
       " 'ess_donating',\n",
       " 'ess_donation',\n",
       " 'ess_donations',\n",
       " 'ess_done',\n",
       " 'ess_donors',\n",
       " 'ess_door',\n",
       " 'ess_dream',\n",
       " 'ess_dreams',\n",
       " 'ess_dry',\n",
       " 'ess_due',\n",
       " 'ess_eager',\n",
       " 'ess_early',\n",
       " 'ess_easier',\n",
       " 'ess_easily',\n",
       " 'ess_easy',\n",
       " 'ess_eat',\n",
       " 'ess_economic',\n",
       " 'ess_economically',\n",
       " 'ess_education',\n",
       " 'ess_educational',\n",
       " 'ess_effective',\n",
       " 'ess_effort',\n",
       " 'ess_either',\n",
       " 'ess_elementary',\n",
       " 'ess_emotional',\n",
       " 'ess_enable',\n",
       " 'ess_encourage',\n",
       " 'ess_end',\n",
       " 'ess_endless',\n",
       " 'ess_energetic',\n",
       " 'ess_energy',\n",
       " 'ess_engage',\n",
       " 'ess_engaged',\n",
       " 'ess_engagement',\n",
       " 'ess_engaging',\n",
       " 'ess_engineering',\n",
       " 'ess_english',\n",
       " 'ess_enhance',\n",
       " 'ess_enjoy',\n",
       " 'ess_enough',\n",
       " 'ess_ensure',\n",
       " 'ess_enter',\n",
       " 'ess_enthusiasm',\n",
       " 'ess_enthusiastic',\n",
       " 'ess_entire',\n",
       " 'ess_environment',\n",
       " 'ess_equipment',\n",
       " 'ess_erase',\n",
       " 'ess_especially',\n",
       " 'ess_essential',\n",
       " 'ess_etc',\n",
       " 'ess_even',\n",
       " 'ess_events',\n",
       " 'ess_ever',\n",
       " 'ess_every',\n",
       " 'ess_everyday',\n",
       " 'ess_everyone',\n",
       " 'ess_everything',\n",
       " 'ess_example',\n",
       " 'ess_excited',\n",
       " 'ess_excitement',\n",
       " 'ess_exciting',\n",
       " 'ess_exercise',\n",
       " 'ess_expand',\n",
       " 'ess_expectations',\n",
       " 'ess_expected',\n",
       " 'ess_experience',\n",
       " 'ess_experiences',\n",
       " 'ess_experiments',\n",
       " 'ess_exploration',\n",
       " 'ess_explore',\n",
       " 'ess_exploring',\n",
       " 'ess_exposed',\n",
       " 'ess_exposure',\n",
       " 'ess_express',\n",
       " 'ess_extra',\n",
       " 'ess_extremely',\n",
       " 'ess_eyes',\n",
       " 'ess_face',\n",
       " 'ess_faced',\n",
       " 'ess_faces',\n",
       " 'ess_fact',\n",
       " 'ess_fall',\n",
       " 'ess_families',\n",
       " 'ess_family',\n",
       " 'ess_far',\n",
       " 'ess_favorite',\n",
       " 'ess_feel',\n",
       " 'ess_feeling',\n",
       " 'ess_fiction',\n",
       " 'ess_field',\n",
       " 'ess_fifth',\n",
       " 'ess_filled',\n",
       " 'ess_financial',\n",
       " 'ess_find',\n",
       " 'ess_finding',\n",
       " 'ess_fine',\n",
       " 'ess_first',\n",
       " 'ess_fit',\n",
       " 'ess_fitness',\n",
       " 'ess_five',\n",
       " 'ess_flexible',\n",
       " 'ess_floor',\n",
       " 'ess_fluency',\n",
       " 'ess_focus',\n",
       " 'ess_focused',\n",
       " 'ess_focusing',\n",
       " 'ess_follow',\n",
       " 'ess_food',\n",
       " 'ess_form',\n",
       " 'ess_fortunate',\n",
       " 'ess_forward',\n",
       " 'ess_foster',\n",
       " 'ess_found',\n",
       " 'ess_foundation',\n",
       " 'ess_four',\n",
       " 'ess_fourth',\n",
       " 'ess_free',\n",
       " 'ess_friends',\n",
       " 'ess_full',\n",
       " 'ess_fully',\n",
       " 'ess_fun',\n",
       " 'ess_funded',\n",
       " 'ess_funding',\n",
       " 'ess_funds',\n",
       " 'ess_future',\n",
       " 'ess_gain',\n",
       " 'ess_game',\n",
       " 'ess_games',\n",
       " 'ess_gap',\n",
       " 'ess_garden',\n",
       " 'ess_general',\n",
       " 'ess_generation',\n",
       " 'ess_generous',\n",
       " 'ess_get',\n",
       " 'ess_getting',\n",
       " 'ess_gifted',\n",
       " 'ess_girls',\n",
       " 'ess_give',\n",
       " 'ess_given',\n",
       " 'ess_gives',\n",
       " 'ess_giving',\n",
       " 'ess_go',\n",
       " 'ess_goal',\n",
       " 'ess_goals',\n",
       " 'ess_going',\n",
       " 'ess_good',\n",
       " 'ess_google',\n",
       " 'ess_grade',\n",
       " 'ess_graders',\n",
       " 'ess_grades',\n",
       " 'ess_great',\n",
       " 'ess_greater',\n",
       " 'ess_greatly',\n",
       " 'ess_group',\n",
       " 'ess_groups',\n",
       " 'ess_grow',\n",
       " 'ess_growing',\n",
       " 'ess_growth',\n",
       " 'ess_guided',\n",
       " 'ess_half',\n",
       " 'ess_hand',\n",
       " 'ess_hands',\n",
       " 'ess_happen',\n",
       " 'ess_happy',\n",
       " 'ess_hard',\n",
       " 'ess_hardships',\n",
       " 'ess_headphones',\n",
       " 'ess_health',\n",
       " 'ess_healthy',\n",
       " 'ess_hear',\n",
       " 'ess_heart',\n",
       " 'ess_help',\n",
       " 'ess_helping',\n",
       " 'ess_helps',\n",
       " 'ess_high',\n",
       " 'ess_higher',\n",
       " 'ess_highest',\n",
       " 'ess_highly',\n",
       " 'ess_hispanic',\n",
       " 'ess_history',\n",
       " 'ess_hokki',\n",
       " 'ess_hold',\n",
       " 'ess_home',\n",
       " 'ess_homes',\n",
       " 'ess_homework',\n",
       " 'ess_hope',\n",
       " 'ess_hoping',\n",
       " 'ess_hours',\n",
       " 'ess_households',\n",
       " 'ess_however',\n",
       " 'ess_huge',\n",
       " 'ess_hungry',\n",
       " 'ess_idea',\n",
       " 'ess_ideas',\n",
       " 'ess_imagination',\n",
       " 'ess_imagine',\n",
       " 'ess_impact',\n",
       " 'ess_importance',\n",
       " 'ess_important',\n",
       " 'ess_improve',\n",
       " 'ess_include',\n",
       " 'ess_includes',\n",
       " 'ess_including',\n",
       " 'ess_income',\n",
       " 'ess_incorporate',\n",
       " 'ess_increase',\n",
       " 'ess_incredible',\n",
       " 'ess_independent',\n",
       " 'ess_independently',\n",
       " 'ess_individual',\n",
       " 'ess_individualized',\n",
       " 'ess_individuals',\n",
       " 'ess_information',\n",
       " 'ess_inner',\n",
       " 'ess_innovative',\n",
       " 'ess_inquisitive',\n",
       " 'ess_inside',\n",
       " 'ess_inspire',\n",
       " 'ess_inspired',\n",
       " 'ess_instead',\n",
       " 'ess_instruction',\n",
       " 'ess_instructional',\n",
       " 'ess_instruments',\n",
       " 'ess_interact',\n",
       " 'ess_interactive',\n",
       " 'ess_interest',\n",
       " 'ess_interested',\n",
       " 'ess_interesting',\n",
       " 'ess_interests',\n",
       " 'ess_internet',\n",
       " 'ess_intervention',\n",
       " 'ess_introduce',\n",
       " 'ess_inviting',\n",
       " 'ess_involved',\n",
       " 'ess_ipad',\n",
       " 'ess_ipads',\n",
       " 'ess_issues',\n",
       " 'ess_items',\n",
       " 'ess_job',\n",
       " 'ess_jobs',\n",
       " 'ess_journey',\n",
       " 'ess_joy',\n",
       " 'ess_keep',\n",
       " 'ess_keeping',\n",
       " 'ess_key',\n",
       " 'ess_kid',\n",
       " 'ess_kiddos',\n",
       " 'ess_kids',\n",
       " 'ess_kind',\n",
       " 'ess_kindergarten',\n",
       " 'ess_kit',\n",
       " 'ess_kits',\n",
       " 'ess_know',\n",
       " 'ess_knowing',\n",
       " 'ess_knowledge',\n",
       " 'ess_lab',\n",
       " 'ess_lack',\n",
       " 'ess_language',\n",
       " 'ess_languages',\n",
       " 'ess_laptop',\n",
       " 'ess_laptops',\n",
       " 'ess_large',\n",
       " 'ess_last',\n",
       " 'ess_lead',\n",
       " 'ess_leaders',\n",
       " 'ess_learn',\n",
       " 'ess_learned',\n",
       " 'ess_learners',\n",
       " 'ess_learning',\n",
       " 'ess_least',\n",
       " 'ess_leave',\n",
       " 'ess_less',\n",
       " 'ess_lesson',\n",
       " 'ess_lessons',\n",
       " 'ess_let',\n",
       " 'ess_letter',\n",
       " 'ess_letters',\n",
       " 'ess_level',\n",
       " 'ess_leveled',\n",
       " 'ess_levels',\n",
       " 'ess_library',\n",
       " 'ess_life',\n",
       " 'ess_lifelong',\n",
       " 'ess_light',\n",
       " 'ess_like',\n",
       " 'ess_limited',\n",
       " 'ess_listen',\n",
       " 'ess_listening',\n",
       " 'ess_literacy',\n",
       " 'ess_literature',\n",
       " 'ess_little',\n",
       " 'ess_live',\n",
       " 'ess_lives',\n",
       " 'ess_living',\n",
       " 'ess_local',\n",
       " 'ess_located',\n",
       " 'ess_long',\n",
       " 'ess_longer',\n",
       " 'ess_look',\n",
       " 'ess_looking',\n",
       " 'ess_lost',\n",
       " 'ess_lot',\n",
       " 'ess_lots',\n",
       " 'ess_love',\n",
       " 'ess_loved',\n",
       " 'ess_loving',\n",
       " 'ess_low',\n",
       " 'ess_lower',\n",
       " 'ess_lucky',\n",
       " 'ess_lunch',\n",
       " 'ess_lunches',\n",
       " 'ess_made',\n",
       " 'ess_magazines',\n",
       " 'ess_majority',\n",
       " 'ess_make',\n",
       " 'ess_makes',\n",
       " 'ess_making',\n",
       " 'ess_manipulatives',\n",
       " 'ess_many',\n",
       " 'ess_markers',\n",
       " 'ess_master',\n",
       " 'ess_material',\n",
       " 'ess_materials',\n",
       " 'ess_math',\n",
       " 'ess_mathematics',\n",
       " 'ess_matter',\n",
       " 'ess_may',\n",
       " 'ess_meaningful',\n",
       " 'ess_means',\n",
       " 'ess_media',\n",
       " 'ess_meet',\n",
       " 'ess_meeting',\n",
       " 'ess_members',\n",
       " 'ess_met',\n",
       " 'ess_middle',\n",
       " 'ess_might',\n",
       " 'ess_mind',\n",
       " 'ess_minds',\n",
       " 'ess_mini',\n",
       " 'ess_minute',\n",
       " 'ess_minutes',\n",
       " 'ess_model',\n",
       " 'ess_money',\n",
       " 'ess_morning',\n",
       " 'ess_motivate',\n",
       " 'ess_motivated',\n",
       " 'ess_motivation',\n",
       " 'ess_motor',\n",
       " 'ess_move',\n",
       " 'ess_movement',\n",
       " 'ess_moving',\n",
       " 'ess_much',\n",
       " 'ess_multiple',\n",
       " 'ess_music',\n",
       " 'ess_must',\n",
       " 'ess_native',\n",
       " 'ess_necessary',\n",
       " 'ess_need',\n",
       " 'ess_needed',\n",
       " 'ess_needs',\n",
       " 'ess_neighborhood',\n",
       " 'ess_never',\n",
       " 'ess_new',\n",
       " 'ess_news',\n",
       " 'ess_next',\n",
       " 'ess_non',\n",
       " 'ess_notebooks',\n",
       " 'ess_notes',\n",
       " 'ess_nothing',\n",
       " 'ess_novel',\n",
       " 'ess_novels',\n",
       " 'ess_number',\n",
       " 'ess_numbers',\n",
       " 'ess_obstacles',\n",
       " 'ess_offer',\n",
       " 'ess_often',\n",
       " 'ess_old',\n",
       " 'ess_olds',\n",
       " 'ess_one',\n",
       " 'ess_ones',\n",
       " 'ess_online',\n",
       " 'ess_open',\n",
       " 'ess_opportunities',\n",
       " 'ess_opportunity',\n",
       " 'ess_option',\n",
       " 'ess_options',\n",
       " 'ess_order',\n",
       " 'ess_organized',\n",
       " 'ess_osmo',\n",
       " 'ess_others',\n",
       " 'ess_outside',\n",
       " 'ess_overall',\n",
       " 'ess_overcome',\n",
       " 'ess_ownership',\n",
       " 'ess_paper',\n",
       " 'ess_parent',\n",
       " 'ess_parents',\n",
       " 'ess_part',\n",
       " 'ess_participate',\n",
       " 'ess_parts',\n",
       " 'ess_passion',\n",
       " 'ess_past',\n",
       " 'ess_path',\n",
       " 'ess_peers',\n",
       " 'ess_pencil',\n",
       " 'ess_pencils',\n",
       " 'ess_people',\n",
       " 'ess_percent',\n",
       " 'ess_perfect',\n",
       " 'ess_perform',\n",
       " 'ess_performance',\n",
       " 'ess_performing',\n",
       " 'ess_personal',\n",
       " 'ess_phonics',\n",
       " 'ess_physical',\n",
       " 'ess_picture',\n",
       " 'ess_pictures',\n",
       " 'ess_pieces',\n",
       " 'ess_place',\n",
       " 'ess_places',\n",
       " 'ess_plan',\n",
       " 'ess_play',\n",
       " 'ess_playing',\n",
       " 'ess_please',\n",
       " 'ess_population',\n",
       " 'ess_positive',\n",
       " 'ess_possibilities',\n",
       " 'ess_possible',\n",
       " 'ess_potential',\n",
       " 'ess_poverty',\n",
       " 'ess_power',\n",
       " 'ess_practice',\n",
       " 'ess_pre',\n",
       " 'ess_prepare',\n",
       " 'ess_prepared',\n",
       " 'ess_preschool',\n",
       " 'ess_present',\n",
       " 'ess_presentations',\n",
       " 'ess_price',\n",
       " 'ess_pride',\n",
       " 'ess_print',\n",
       " 'ess_printer',\n",
       " 'ess_problem',\n",
       " 'ess_problems',\n",
       " 'ess_process',\n",
       " 'ess_productive',\n",
       " 'ess_program',\n",
       " 'ess_programs',\n",
       " 'ess_progress',\n",
       " 'ess_project',\n",
       " 'ess_projects',\n",
       " 'ess_promote',\n",
       " 'ess_proper',\n",
       " 'ess_proud',\n",
       " 'ess_provide',\n",
       " 'ess_provided',\n",
       " 'ess_provides',\n",
       " 'ess_providing',\n",
       " 'ess_public',\n",
       " 'ess_purchase',\n",
       " 'ess_push',\n",
       " 'ess_put',\n",
       " 'ess_qualify',\n",
       " 'ess_quality',\n",
       " 'ess_questions',\n",
       " 'ess_quickly',\n",
       " 'ess_range',\n",
       " 'ess_rate',\n",
       " 'ess_rather',\n",
       " 'ess_reach',\n",
       " 'ess_read',\n",
       " 'ess_reader',\n",
       " 'ess_readers',\n",
       " 'ess_reading',\n",
       " 'ess_ready',\n",
       " 'ess_real',\n",
       " 'ess_reality',\n",
       " 'ess_realize',\n",
       " 'ess_really',\n",
       " 'ess_receive',\n",
       " 'ess_receiving',\n",
       " 'ess_recently',\n",
       " 'ess_recess',\n",
       " 'ess_record',\n",
       " 'ess_reduced',\n",
       " 'ess_regardless',\n",
       " 'ess_regular',\n",
       " 'ess_reinforce',\n",
       " 'ess_remember',\n",
       " 'ess_requested',\n",
       " 'ess_requesting',\n",
       " 'ess_require',\n",
       " 'ess_required',\n",
       " 'ess_research',\n",
       " 'ess_resource',\n",
       " 'ess_resources',\n",
       " 'ess_responsibility',\n",
       " 'ess_responsible',\n",
       " 'ess_rest',\n",
       " 'ess_rich',\n",
       " 'ess_right',\n",
       " 'ess_rigorous',\n",
       " 'ess_risk',\n",
       " 'ess_rn',\n",
       " 'ess_rni',\n",
       " 'ess_rnmy',\n",
       " 'ess_rnour',\n",
       " 'ess_rnstudents',\n",
       " 'ess_rnthe',\n",
       " 'ess_rnthese',\n",
       " 'ess_rnthey',\n",
       " 'ess_rnthis',\n",
       " 'ess_rnwe',\n",
       " 'ess_robotics',\n",
       " 'ess_robots',\n",
       " 'ess_role',\n",
       " 'ess_room',\n",
       " 'ess_rug',\n",
       " 'ess_run',\n",
       " 'ess_rural',\n",
       " 'ess_safe',\n",
       " 'ess_said',\n",
       " 'ess_say',\n",
       " 'ess_scholars',\n",
       " 'ess_school',\n",
       " 'ess_schools',\n",
       " 'ess_science',\n",
       " 'ess_scientists',\n",
       " 'ess_seat',\n",
       " 'ess_seating',\n",
       " 'ess_seats',\n",
       " 'ess_second',\n",
       " 'ess_see',\n",
       " 'ess_seeing',\n",
       " 'ess_seen',\n",
       " 'ess_self',\n",
       " 'ess_sense',\n",
       " 'ess_sensory',\n",
       " 'ess_serve',\n",
       " 'ess_serves',\n",
       " 'ess_services',\n",
       " 'ess_set',\n",
       " 'ess_sets',\n",
       " 'ess_setting',\n",
       " 'ess_several',\n",
       " 'ess_share',\n",
       " 'ess_shared',\n",
       " 'ess_sharing',\n",
       " 'ess_short',\n",
       " 'ess_show',\n",
       " 'ess_shown',\n",
       " 'ess_shows',\n",
       " 'ess_side',\n",
       " 'ess_sight',\n",
       " 'ess_simple',\n",
       " 'ess_simply',\n",
       " 'ess_since',\n",
       " 'ess_single',\n",
       " 'ess_sit',\n",
       " 'ess_sitting',\n",
       " 'ess_situations',\n",
       " 'ess_six',\n",
       " 'ess_skill',\n",
       " 'ess_skills',\n",
       " 'ess_small',\n",
       " 'ess_smart',\n",
       " 'ess_smile',\n",
       " 'ess_snacks',\n",
       " 'ess_social',\n",
       " 'ess_society',\n",
       " 'ess_socio',\n",
       " 'ess_socioeconomic',\n",
       " 'ess_solve',\n",
       " 'ess_solving',\n",
       " 'ess_something',\n",
       " 'ess_sometimes',\n",
       " 'ess_sound',\n",
       " 'ess_sounds',\n",
       " 'ess_south',\n",
       " 'ess_space',\n",
       " 'ess_spanish',\n",
       " 'ess_speak',\n",
       " 'ess_speaking',\n",
       " 'ess_special',\n",
       " 'ess_specific',\n",
       " 'ess_speech',\n",
       " 'ess_spend',\n",
       " 'ess_sports',\n",
       " 'ess_stability',\n",
       " 'ess_staff',\n",
       " 'ess_stand',\n",
       " 'ess_standards',\n",
       " 'ess_standing',\n",
       " 'ess_start',\n",
       " 'ess_started',\n",
       " 'ess_starting',\n",
       " 'ess_state',\n",
       " 'ess_station',\n",
       " 'ess_stations',\n",
       " 'ess_status',\n",
       " 'ess_stay',\n",
       " 'ess_steam',\n",
       " 'ess_stem',\n",
       " 'ess_step',\n",
       " 'ess_still',\n",
       " 'ess_stools',\n",
       " 'ess_stop',\n",
       " 'ess_storage',\n",
       " 'ess_store',\n",
       " 'ess_stories',\n",
       " 'ess_story',\n",
       " 'ess_strategies',\n",
       " 'ess_strive',\n",
       " 'ess_strong',\n",
       " 'ess_struggle',\n",
       " 'ess_struggles',\n",
       " 'ess_struggling',\n",
       " 'ess_student',\n",
       " 'ess_students',\n",
       " 'ess_studies',\n",
       " 'ess_study',\n",
       " 'ess_style',\n",
       " 'ess_styles',\n",
       " 'ess_subject',\n",
       " 'ess_subjects',\n",
       " 'ess_succeed',\n",
       " 'ess_success',\n",
       " 'ess_successful',\n",
       " 'ess_supplies',\n",
       " 'ess_supply',\n",
       " 'ess_support',\n",
       " 'ess_supports',\n",
       " 'ess_sure',\n",
       " 'ess_system',\n",
       " 'ess_table',\n",
       " 'ess_tables',\n",
       " 'ess_tablets',\n",
       " 'ess_take',\n",
       " 'ess_takes',\n",
       " 'ess_taking',\n",
       " 'ess_talented',\n",
       " 'ess_talk',\n",
       " 'ess_task',\n",
       " 'ess_tasks',\n",
       " 'ess_taught',\n",
       " 'ess_teach',\n",
       " 'ess_teacher',\n",
       " 'ess_teachers',\n",
       " 'ess_teaching',\n",
       " 'ess_team',\n",
       " 'ess_technological',\n",
       " 'ess_technology',\n",
       " 'ess_tell',\n",
       " 'ess_test',\n",
       " 'ess_testing',\n",
       " 'ess_text',\n",
       " 'ess_texts',\n",
       " 'ess_thank',\n",
       " 'ess_therefore',\n",
       " 'ess_thing',\n",
       " 'ess_things',\n",
       " 'ess_think',\n",
       " 'ess_thinkers',\n",
       " 'ess_thinking',\n",
       " 'ess_third',\n",
       " 'ess_though',\n",
       " 'ess_three',\n",
       " 'ess_thrive',\n",
       " 'ess_throughout',\n",
       " 'ess_time',\n",
       " 'ess_times',\n",
       " 'ess_title',\n",
       " 'ess_today',\n",
       " 'ess_together',\n",
       " 'ess_tool',\n",
       " 'ess_tools',\n",
       " 'ess_top',\n",
       " 'ess_topics',\n",
       " 'ess_towards',\n",
       " 'ess_town',\n",
       " 'ess_track',\n",
       " 'ess_traditional',\n",
       " 'ess_true',\n",
       " 'ess_truly',\n",
       " 'ess_try',\n",
       " 'ess_trying',\n",
       " 'ess_turn',\n",
       " 'ess_two',\n",
       " 'ess_type',\n",
       " 'ess_types',\n",
       " 'ess_typical',\n",
       " 'ess_unable',\n",
       " 'ess_understand',\n",
       " 'ess_understanding',\n",
       " 'ess_unfortunately',\n",
       " 'ess_unique',\n",
       " 'ess_unit',\n",
       " 'ess_urban',\n",
       " 'ess_us',\n",
       " 'ess_use',\n",
       " 'ess_used',\n",
       " 'ess_using',\n",
       " 'ess_utilize',\n",
       " 'ess_valuable',\n",
       " 'ess_value',\n",
       " 'ess_variety',\n",
       " 'ess_various',\n",
       " 'ess_video',\n",
       " 'ess_videos',\n",
       " 'ess_view',\n",
       " 'ess_visual',\n",
       " 'ess_vocabulary',\n",
       " 'ess_wait',\n",
       " 'ess_walk',\n",
       " 'ess_want',\n",
       " 'ess_watch',\n",
       " 'ess_water',\n",
       " 'ess_way',\n",
       " 'ess_ways',\n",
       " 'ess_week',\n",
       " 'ess_well',\n",
       " 'ess_whether',\n",
       " 'ess_white',\n",
       " 'ess_whole',\n",
       " 'ess_wide',\n",
       " 'ess_wiggle',\n",
       " 'ess_willing',\n",
       " 'ess_within',\n",
       " 'ess_without',\n",
       " 'ess_wobble',\n",
       " 'ess_wonderful',\n",
       " 'ess_word',\n",
       " 'ess_words',\n",
       " 'ess_work',\n",
       " 'ess_working',\n",
       " 'ess_works',\n",
       " 'ess_world',\n",
       " 'ess_would',\n",
       " 'ess_write',\n",
       " 'ess_writers',\n",
       " 'ess_writing',\n",
       " 'ess_written',\n",
       " 'ess_year',\n",
       " 'ess_years',\n",
       " 'ess_yet',\n",
       " 'ess_yoga',\n",
       " 'ess_young']"
      ]
     },
     "execution_count": 72,
     "metadata": {},
     "output_type": "execute_result"
    }
   ],
   "source": [
    "ess_columns = ['ess_'+x for x in vectorizer2.get_feature_names()]\n",
    "ess_columns"
   ]
  },
  {
   "cell_type": "code",
   "execution_count": 73,
   "metadata": {},
   "outputs": [],
   "source": [
    "pt_features = pd.DataFrame(data=Y_vec_pt.toarray(), columns=pt_columns)"
   ]
  },
  {
   "cell_type": "code",
   "execution_count": 74,
   "metadata": {},
   "outputs": [],
   "source": [
    "ess_features = pd.DataFrame(data=Y_vec_ess.toarray(), columns=ess_columns)"
   ]
  },
  {
   "cell_type": "code",
   "execution_count": 75,
   "metadata": {},
   "outputs": [
    {
     "data": {
      "text/html": [
       "<div>\n",
       "<style scoped>\n",
       "    .dataframe tbody tr th:only-of-type {\n",
       "        vertical-align: middle;\n",
       "    }\n",
       "\n",
       "    .dataframe tbody tr th {\n",
       "        vertical-align: top;\n",
       "    }\n",
       "\n",
       "    .dataframe thead th {\n",
       "        text-align: right;\n",
       "    }\n",
       "</style>\n",
       "<table border=\"1\" class=\"dataframe\">\n",
       "  <thead>\n",
       "    <tr style=\"text-align: right;\">\n",
       "      <th></th>\n",
       "      <th>pt_21st</th>\n",
       "      <th>pt_active</th>\n",
       "      <th>pt_art</th>\n",
       "      <th>pt_book</th>\n",
       "      <th>pt_books</th>\n",
       "      <th>pt_building</th>\n",
       "      <th>pt_center</th>\n",
       "      <th>pt_centers</th>\n",
       "      <th>pt_century</th>\n",
       "      <th>pt_chromebooks</th>\n",
       "      <th>...</th>\n",
       "      <th>pt_tools</th>\n",
       "      <th>pt_us</th>\n",
       "      <th>pt_using</th>\n",
       "      <th>pt_way</th>\n",
       "      <th>pt_wiggle</th>\n",
       "      <th>pt_wobble</th>\n",
       "      <th>pt_work</th>\n",
       "      <th>pt_world</th>\n",
       "      <th>pt_writing</th>\n",
       "      <th>pt_year</th>\n",
       "    </tr>\n",
       "  </thead>\n",
       "  <tbody>\n",
       "    <tr>\n",
       "      <th>118436</th>\n",
       "      <td>0.0</td>\n",
       "      <td>0.0</td>\n",
       "      <td>0.0</td>\n",
       "      <td>0.0</td>\n",
       "      <td>0.000000</td>\n",
       "      <td>0.0</td>\n",
       "      <td>0.0</td>\n",
       "      <td>0.0</td>\n",
       "      <td>0.0</td>\n",
       "      <td>0.0</td>\n",
       "      <td>...</td>\n",
       "      <td>0.0</td>\n",
       "      <td>0.000000</td>\n",
       "      <td>0.0</td>\n",
       "      <td>0.0</td>\n",
       "      <td>0.0</td>\n",
       "      <td>0.0</td>\n",
       "      <td>0.0</td>\n",
       "      <td>0.0</td>\n",
       "      <td>0.0</td>\n",
       "      <td>0.0</td>\n",
       "    </tr>\n",
       "    <tr>\n",
       "      <th>181530</th>\n",
       "      <td>0.0</td>\n",
       "      <td>0.0</td>\n",
       "      <td>0.0</td>\n",
       "      <td>0.0</td>\n",
       "      <td>0.000000</td>\n",
       "      <td>0.0</td>\n",
       "      <td>0.0</td>\n",
       "      <td>0.0</td>\n",
       "      <td>0.0</td>\n",
       "      <td>0.0</td>\n",
       "      <td>...</td>\n",
       "      <td>0.0</td>\n",
       "      <td>0.000000</td>\n",
       "      <td>0.0</td>\n",
       "      <td>0.0</td>\n",
       "      <td>0.0</td>\n",
       "      <td>0.0</td>\n",
       "      <td>0.0</td>\n",
       "      <td>0.0</td>\n",
       "      <td>0.0</td>\n",
       "      <td>0.0</td>\n",
       "    </tr>\n",
       "    <tr>\n",
       "      <th>125173</th>\n",
       "      <td>0.0</td>\n",
       "      <td>0.0</td>\n",
       "      <td>0.0</td>\n",
       "      <td>0.0</td>\n",
       "      <td>0.687802</td>\n",
       "      <td>0.0</td>\n",
       "      <td>0.0</td>\n",
       "      <td>0.0</td>\n",
       "      <td>0.0</td>\n",
       "      <td>0.0</td>\n",
       "      <td>...</td>\n",
       "      <td>0.0</td>\n",
       "      <td>0.725898</td>\n",
       "      <td>0.0</td>\n",
       "      <td>0.0</td>\n",
       "      <td>0.0</td>\n",
       "      <td>0.0</td>\n",
       "      <td>0.0</td>\n",
       "      <td>0.0</td>\n",
       "      <td>0.0</td>\n",
       "      <td>0.0</td>\n",
       "    </tr>\n",
       "    <tr>\n",
       "      <th>4411</th>\n",
       "      <td>0.0</td>\n",
       "      <td>0.0</td>\n",
       "      <td>0.0</td>\n",
       "      <td>0.0</td>\n",
       "      <td>0.000000</td>\n",
       "      <td>0.0</td>\n",
       "      <td>0.0</td>\n",
       "      <td>0.0</td>\n",
       "      <td>0.0</td>\n",
       "      <td>0.0</td>\n",
       "      <td>...</td>\n",
       "      <td>0.0</td>\n",
       "      <td>0.000000</td>\n",
       "      <td>0.0</td>\n",
       "      <td>0.0</td>\n",
       "      <td>0.0</td>\n",
       "      <td>0.0</td>\n",
       "      <td>0.0</td>\n",
       "      <td>0.0</td>\n",
       "      <td>0.0</td>\n",
       "      <td>0.0</td>\n",
       "    </tr>\n",
       "    <tr>\n",
       "      <th>109529</th>\n",
       "      <td>0.0</td>\n",
       "      <td>0.0</td>\n",
       "      <td>0.0</td>\n",
       "      <td>0.0</td>\n",
       "      <td>0.000000</td>\n",
       "      <td>0.0</td>\n",
       "      <td>0.0</td>\n",
       "      <td>0.0</td>\n",
       "      <td>0.0</td>\n",
       "      <td>0.0</td>\n",
       "      <td>...</td>\n",
       "      <td>0.0</td>\n",
       "      <td>0.000000</td>\n",
       "      <td>0.0</td>\n",
       "      <td>0.0</td>\n",
       "      <td>0.0</td>\n",
       "      <td>0.0</td>\n",
       "      <td>0.0</td>\n",
       "      <td>0.0</td>\n",
       "      <td>0.0</td>\n",
       "      <td>0.0</td>\n",
       "    </tr>\n",
       "  </tbody>\n",
       "</table>\n",
       "<p>5 rows × 100 columns</p>\n",
       "</div>"
      ],
      "text/plain": [
       "        pt_21st  pt_active  pt_art  pt_book  pt_books  pt_building  pt_center  \\\n",
       "118436      0.0        0.0     0.0      0.0  0.000000          0.0        0.0   \n",
       "181530      0.0        0.0     0.0      0.0  0.000000          0.0        0.0   \n",
       "125173      0.0        0.0     0.0      0.0  0.687802          0.0        0.0   \n",
       "4411        0.0        0.0     0.0      0.0  0.000000          0.0        0.0   \n",
       "109529      0.0        0.0     0.0      0.0  0.000000          0.0        0.0   \n",
       "\n",
       "        pt_centers  pt_century  pt_chromebooks   ...     pt_tools     pt_us  \\\n",
       "118436         0.0         0.0             0.0   ...          0.0  0.000000   \n",
       "181530         0.0         0.0             0.0   ...          0.0  0.000000   \n",
       "125173         0.0         0.0             0.0   ...          0.0  0.725898   \n",
       "4411           0.0         0.0             0.0   ...          0.0  0.000000   \n",
       "109529         0.0         0.0             0.0   ...          0.0  0.000000   \n",
       "\n",
       "        pt_using  pt_way  pt_wiggle  pt_wobble  pt_work  pt_world  pt_writing  \\\n",
       "118436       0.0     0.0        0.0        0.0      0.0       0.0         0.0   \n",
       "181530       0.0     0.0        0.0        0.0      0.0       0.0         0.0   \n",
       "125173       0.0     0.0        0.0        0.0      0.0       0.0         0.0   \n",
       "4411         0.0     0.0        0.0        0.0      0.0       0.0         0.0   \n",
       "109529       0.0     0.0        0.0        0.0      0.0       0.0         0.0   \n",
       "\n",
       "        pt_year  \n",
       "118436      0.0  \n",
       "181530      0.0  \n",
       "125173      0.0  \n",
       "4411        0.0  \n",
       "109529      0.0  \n",
       "\n",
       "[5 rows x 100 columns]"
      ]
     },
     "execution_count": 75,
     "metadata": {},
     "output_type": "execute_result"
    }
   ],
   "source": [
    "pt_features.sample(5)"
   ]
  },
  {
   "cell_type": "code",
   "execution_count": 76,
   "metadata": {},
   "outputs": [
    {
     "data": {
      "text/html": [
       "<div>\n",
       "<style scoped>\n",
       "    .dataframe tbody tr th:only-of-type {\n",
       "        vertical-align: middle;\n",
       "    }\n",
       "\n",
       "    .dataframe tbody tr th {\n",
       "        vertical-align: top;\n",
       "    }\n",
       "\n",
       "    .dataframe thead th {\n",
       "        text-align: right;\n",
       "    }\n",
       "</style>\n",
       "<table border=\"1\" class=\"dataframe\">\n",
       "  <thead>\n",
       "    <tr style=\"text-align: right;\">\n",
       "      <th></th>\n",
       "      <th>ess_10</th>\n",
       "      <th>ess_100</th>\n",
       "      <th>ess_12</th>\n",
       "      <th>ess_1st</th>\n",
       "      <th>ess_20</th>\n",
       "      <th>ess_21st</th>\n",
       "      <th>ess_25</th>\n",
       "      <th>ess_2nd</th>\n",
       "      <th>ess_30</th>\n",
       "      <th>ess_3d</th>\n",
       "      <th>...</th>\n",
       "      <th>ess_would</th>\n",
       "      <th>ess_write</th>\n",
       "      <th>ess_writers</th>\n",
       "      <th>ess_writing</th>\n",
       "      <th>ess_written</th>\n",
       "      <th>ess_year</th>\n",
       "      <th>ess_years</th>\n",
       "      <th>ess_yet</th>\n",
       "      <th>ess_yoga</th>\n",
       "      <th>ess_young</th>\n",
       "    </tr>\n",
       "  </thead>\n",
       "  <tbody>\n",
       "    <tr>\n",
       "      <th>107417</th>\n",
       "      <td>0.0</td>\n",
       "      <td>0.0</td>\n",
       "      <td>0.0</td>\n",
       "      <td>0.0</td>\n",
       "      <td>0.0</td>\n",
       "      <td>0.0</td>\n",
       "      <td>0.0</td>\n",
       "      <td>0.0</td>\n",
       "      <td>0.0</td>\n",
       "      <td>0.0</td>\n",
       "      <td>...</td>\n",
       "      <td>0.000000</td>\n",
       "      <td>0.0</td>\n",
       "      <td>0.0</td>\n",
       "      <td>0.0</td>\n",
       "      <td>0.0</td>\n",
       "      <td>0.000000</td>\n",
       "      <td>0.0</td>\n",
       "      <td>0.000000</td>\n",
       "      <td>0.0</td>\n",
       "      <td>0.0</td>\n",
       "    </tr>\n",
       "    <tr>\n",
       "      <th>171470</th>\n",
       "      <td>0.0</td>\n",
       "      <td>0.0</td>\n",
       "      <td>0.0</td>\n",
       "      <td>0.0</td>\n",
       "      <td>0.0</td>\n",
       "      <td>0.0</td>\n",
       "      <td>0.0</td>\n",
       "      <td>0.0</td>\n",
       "      <td>0.0</td>\n",
       "      <td>0.0</td>\n",
       "      <td>...</td>\n",
       "      <td>0.000000</td>\n",
       "      <td>0.0</td>\n",
       "      <td>0.0</td>\n",
       "      <td>0.0</td>\n",
       "      <td>0.0</td>\n",
       "      <td>0.000000</td>\n",
       "      <td>0.0</td>\n",
       "      <td>0.000000</td>\n",
       "      <td>0.0</td>\n",
       "      <td>0.0</td>\n",
       "    </tr>\n",
       "    <tr>\n",
       "      <th>117856</th>\n",
       "      <td>0.0</td>\n",
       "      <td>0.0</td>\n",
       "      <td>0.0</td>\n",
       "      <td>0.0</td>\n",
       "      <td>0.0</td>\n",
       "      <td>0.0</td>\n",
       "      <td>0.0</td>\n",
       "      <td>0.0</td>\n",
       "      <td>0.0</td>\n",
       "      <td>0.0</td>\n",
       "      <td>...</td>\n",
       "      <td>0.000000</td>\n",
       "      <td>0.0</td>\n",
       "      <td>0.0</td>\n",
       "      <td>0.0</td>\n",
       "      <td>0.0</td>\n",
       "      <td>0.000000</td>\n",
       "      <td>0.0</td>\n",
       "      <td>0.119525</td>\n",
       "      <td>0.0</td>\n",
       "      <td>0.0</td>\n",
       "    </tr>\n",
       "    <tr>\n",
       "      <th>159793</th>\n",
       "      <td>0.0</td>\n",
       "      <td>0.0</td>\n",
       "      <td>0.0</td>\n",
       "      <td>0.0</td>\n",
       "      <td>0.0</td>\n",
       "      <td>0.0</td>\n",
       "      <td>0.0</td>\n",
       "      <td>0.0</td>\n",
       "      <td>0.0</td>\n",
       "      <td>0.0</td>\n",
       "      <td>...</td>\n",
       "      <td>0.000000</td>\n",
       "      <td>0.0</td>\n",
       "      <td>0.0</td>\n",
       "      <td>0.0</td>\n",
       "      <td>0.0</td>\n",
       "      <td>0.000000</td>\n",
       "      <td>0.0</td>\n",
       "      <td>0.000000</td>\n",
       "      <td>0.0</td>\n",
       "      <td>0.0</td>\n",
       "    </tr>\n",
       "    <tr>\n",
       "      <th>57140</th>\n",
       "      <td>0.0</td>\n",
       "      <td>0.0</td>\n",
       "      <td>0.0</td>\n",
       "      <td>0.0</td>\n",
       "      <td>0.0</td>\n",
       "      <td>0.0</td>\n",
       "      <td>0.0</td>\n",
       "      <td>0.0</td>\n",
       "      <td>0.0</td>\n",
       "      <td>0.0</td>\n",
       "      <td>...</td>\n",
       "      <td>0.046209</td>\n",
       "      <td>0.0</td>\n",
       "      <td>0.0</td>\n",
       "      <td>0.0</td>\n",
       "      <td>0.0</td>\n",
       "      <td>0.045002</td>\n",
       "      <td>0.0</td>\n",
       "      <td>0.086280</td>\n",
       "      <td>0.0</td>\n",
       "      <td>0.0</td>\n",
       "    </tr>\n",
       "  </tbody>\n",
       "</table>\n",
       "<p>5 rows × 1000 columns</p>\n",
       "</div>"
      ],
      "text/plain": [
       "        ess_10  ess_100  ess_12  ess_1st  ess_20  ess_21st  ess_25  ess_2nd  \\\n",
       "107417     0.0      0.0     0.0      0.0     0.0       0.0     0.0      0.0   \n",
       "171470     0.0      0.0     0.0      0.0     0.0       0.0     0.0      0.0   \n",
       "117856     0.0      0.0     0.0      0.0     0.0       0.0     0.0      0.0   \n",
       "159793     0.0      0.0     0.0      0.0     0.0       0.0     0.0      0.0   \n",
       "57140      0.0      0.0     0.0      0.0     0.0       0.0     0.0      0.0   \n",
       "\n",
       "        ess_30  ess_3d    ...      ess_would  ess_write  ess_writers  \\\n",
       "107417     0.0     0.0    ...       0.000000        0.0          0.0   \n",
       "171470     0.0     0.0    ...       0.000000        0.0          0.0   \n",
       "117856     0.0     0.0    ...       0.000000        0.0          0.0   \n",
       "159793     0.0     0.0    ...       0.000000        0.0          0.0   \n",
       "57140      0.0     0.0    ...       0.046209        0.0          0.0   \n",
       "\n",
       "        ess_writing  ess_written  ess_year  ess_years   ess_yet  ess_yoga  \\\n",
       "107417          0.0          0.0  0.000000        0.0  0.000000       0.0   \n",
       "171470          0.0          0.0  0.000000        0.0  0.000000       0.0   \n",
       "117856          0.0          0.0  0.000000        0.0  0.119525       0.0   \n",
       "159793          0.0          0.0  0.000000        0.0  0.000000       0.0   \n",
       "57140           0.0          0.0  0.045002        0.0  0.086280       0.0   \n",
       "\n",
       "        ess_young  \n",
       "107417        0.0  \n",
       "171470        0.0  \n",
       "117856        0.0  \n",
       "159793        0.0  \n",
       "57140         0.0  \n",
       "\n",
       "[5 rows x 1000 columns]"
      ]
     },
     "execution_count": 76,
     "metadata": {},
     "output_type": "execute_result"
    }
   ],
   "source": [
    "ess_features.sample(5)"
   ]
  },
  {
   "cell_type": "code",
   "execution_count": 77,
   "metadata": {},
   "outputs": [
    {
     "name": "stdout",
     "output_type": "stream",
     "text": [
      "value counts pt_features: 182080 \n"
     ]
    }
   ],
   "source": [
    "print('value counts pt_features: {} '.format(len(pt_features)) )"
   ]
  },
  {
   "cell_type": "code",
   "execution_count": 78,
   "metadata": {},
   "outputs": [
    {
     "name": "stdout",
     "output_type": "stream",
     "text": [
      "value counts ess_features: 182080 \n"
     ]
    }
   ],
   "source": [
    "print('value counts ess_features: {} '.format(len(ess_features)) )"
   ]
  },
  {
   "cell_type": "code",
   "execution_count": 79,
   "metadata": {},
   "outputs": [],
   "source": [
    "train_data_final = pd.concat([train_data_final, pt_features, ess_features],join='inner', axis=1)"
   ]
  },
  {
   "cell_type": "code",
   "execution_count": 80,
   "metadata": {},
   "outputs": [
    {
     "data": {
      "text/plain": [
       "182080"
      ]
     },
     "execution_count": 80,
     "metadata": {},
     "output_type": "execute_result"
    }
   ],
   "source": [
    "len(train_data_final)"
   ]
  },
  {
   "cell_type": "code",
   "execution_count": 81,
   "metadata": {},
   "outputs": [],
   "source": [
    "cols_to_remove = ['teacher_prefix','id','project_title','project_essay_1','project_essay_2','project_essay_3',\n",
    "                  'project_essay_4','all_essay','project_resource_summary','project_submitted_datetime','description']\n",
    "\n",
    "train_data_final = train_data_final.drop(cols_to_remove, axis = 1)"
   ]
  },
  {
   "cell_type": "code",
   "execution_count": 82,
   "metadata": {
    "scrolled": true
   },
   "outputs": [
    {
     "data": {
      "text/plain": [
       "float64    1103\n",
       "int64        21\n",
       "dtype: int64"
      ]
     },
     "execution_count": 82,
     "metadata": {},
     "output_type": "execute_result"
    }
   ],
   "source": [
    "train_data_final.dtypes.value_counts()"
   ]
  },
  {
   "cell_type": "markdown",
   "metadata": {},
   "source": [
    "Saving Progress"
   ]
  },
  {
   "cell_type": "code",
   "execution_count": 83,
   "metadata": {},
   "outputs": [],
   "source": [
    "outfile_2 = open('ready_4_modeling','wb')\n",
    "pickle.dump(train_data_final,outfile_2)\n",
    "outfile_2.close()"
   ]
  },
  {
   "cell_type": "code",
   "execution_count": 84,
   "metadata": {},
   "outputs": [],
   "source": [
    "#infile_2 = open('ready_4_modeling','rb')\n",
    "#train_data_final = pickle.load(infile_2)\n",
    "#infile_2.close()"
   ]
  },
  {
   "cell_type": "markdown",
   "metadata": {},
   "source": [
    "**Modeling**"
   ]
  },
  {
   "cell_type": "code",
   "execution_count": 85,
   "metadata": {
    "colab": {
     "autoexec": {
      "startup": false,
      "wait_interval": 0
     },
     "base_uri": "https://localhost:8080/",
     "height": 0
    },
    "colab_type": "code",
    "executionInfo": {
     "elapsed": 401,
     "status": "ok",
     "timestamp": 1530362980354,
     "user": {
      "displayName": "matias cortes",
      "photoUrl": "https://lh3.googleusercontent.com/a/default-user=s128",
      "userId": "107469798896078848018"
     },
     "user_tz": 240
    },
    "id": "zx2_4CEXjFtp",
    "outputId": "f9550c5d-9db7-424c-a36d-e8f5cdc74368"
   },
   "outputs": [],
   "source": [
    "y2 = train_data_final.project_is_approved.copy()\n",
    "X2 = train_data_final.copy()\n",
    "\n",
    "X2=X2.drop('project_is_approved',axis=1)"
   ]
  },
  {
   "cell_type": "code",
   "execution_count": 86,
   "metadata": {},
   "outputs": [
    {
     "data": {
      "text/html": [
       "<div>\n",
       "<style scoped>\n",
       "    .dataframe tbody tr th:only-of-type {\n",
       "        vertical-align: middle;\n",
       "    }\n",
       "\n",
       "    .dataframe tbody tr th {\n",
       "        vertical-align: top;\n",
       "    }\n",
       "\n",
       "    .dataframe thead th {\n",
       "        text-align: right;\n",
       "    }\n",
       "</style>\n",
       "<table border=\"1\" class=\"dataframe\">\n",
       "  <thead>\n",
       "    <tr style=\"text-align: right;\">\n",
       "      <th></th>\n",
       "      <th>teacher_id</th>\n",
       "      <th>school_state</th>\n",
       "      <th>project_grade_category</th>\n",
       "      <th>project_subject_categories</th>\n",
       "      <th>project_subject_subcategories</th>\n",
       "      <th>teacher_number_of_previously_posted_projects</th>\n",
       "      <th>price</th>\n",
       "      <th>quantity</th>\n",
       "      <th>Year</th>\n",
       "      <th>Month</th>\n",
       "      <th>...</th>\n",
       "      <th>ess_would</th>\n",
       "      <th>ess_write</th>\n",
       "      <th>ess_writers</th>\n",
       "      <th>ess_writing</th>\n",
       "      <th>ess_written</th>\n",
       "      <th>ess_year</th>\n",
       "      <th>ess_years</th>\n",
       "      <th>ess_yet</th>\n",
       "      <th>ess_yoga</th>\n",
       "      <th>ess_young</th>\n",
       "    </tr>\n",
       "  </thead>\n",
       "  <tbody>\n",
       "    <tr>\n",
       "      <th>0</th>\n",
       "      <td>29315</td>\n",
       "      <td>33</td>\n",
       "      <td>3</td>\n",
       "      <td>24</td>\n",
       "      <td>321</td>\n",
       "      <td>26</td>\n",
       "      <td>299.98</td>\n",
       "      <td>6</td>\n",
       "      <td>2016</td>\n",
       "      <td>11</td>\n",
       "      <td>...</td>\n",
       "      <td>0.066496</td>\n",
       "      <td>0.0</td>\n",
       "      <td>0.0</td>\n",
       "      <td>0.0</td>\n",
       "      <td>0.0</td>\n",
       "      <td>0.097140</td>\n",
       "      <td>0.000000</td>\n",
       "      <td>0.0</td>\n",
       "      <td>0.0</td>\n",
       "      <td>0.0</td>\n",
       "    </tr>\n",
       "    <tr>\n",
       "      <th>1</th>\n",
       "      <td>91061</td>\n",
       "      <td>10</td>\n",
       "      <td>0</td>\n",
       "      <td>42</td>\n",
       "      <td>392</td>\n",
       "      <td>1</td>\n",
       "      <td>20.00</td>\n",
       "      <td>20</td>\n",
       "      <td>2017</td>\n",
       "      <td>4</td>\n",
       "      <td>...</td>\n",
       "      <td>0.000000</td>\n",
       "      <td>0.0</td>\n",
       "      <td>0.0</td>\n",
       "      <td>0.0</td>\n",
       "      <td>0.0</td>\n",
       "      <td>0.000000</td>\n",
       "      <td>0.000000</td>\n",
       "      <td>0.0</td>\n",
       "      <td>0.0</td>\n",
       "      <td>0.0</td>\n",
       "    </tr>\n",
       "    <tr>\n",
       "      <th>2</th>\n",
       "      <td>69247</td>\n",
       "      <td>44</td>\n",
       "      <td>0</td>\n",
       "      <td>36</td>\n",
       "      <td>17</td>\n",
       "      <td>5</td>\n",
       "      <td>469.99</td>\n",
       "      <td>1</td>\n",
       "      <td>2017</td>\n",
       "      <td>1</td>\n",
       "      <td>...</td>\n",
       "      <td>0.104257</td>\n",
       "      <td>0.0</td>\n",
       "      <td>0.0</td>\n",
       "      <td>0.0</td>\n",
       "      <td>0.0</td>\n",
       "      <td>0.000000</td>\n",
       "      <td>0.075585</td>\n",
       "      <td>0.0</td>\n",
       "      <td>0.0</td>\n",
       "      <td>0.0</td>\n",
       "    </tr>\n",
       "    <tr>\n",
       "      <th>3</th>\n",
       "      <td>33451</td>\n",
       "      <td>27</td>\n",
       "      <td>0</td>\n",
       "      <td>8</td>\n",
       "      <td>293</td>\n",
       "      <td>16</td>\n",
       "      <td>684.47</td>\n",
       "      <td>5</td>\n",
       "      <td>2016</td>\n",
       "      <td>8</td>\n",
       "      <td>...</td>\n",
       "      <td>0.000000</td>\n",
       "      <td>0.0</td>\n",
       "      <td>0.0</td>\n",
       "      <td>0.0</td>\n",
       "      <td>0.0</td>\n",
       "      <td>0.024132</td>\n",
       "      <td>0.000000</td>\n",
       "      <td>0.0</td>\n",
       "      <td>0.0</td>\n",
       "      <td>0.0</td>\n",
       "    </tr>\n",
       "    <tr>\n",
       "      <th>4</th>\n",
       "      <td>67811</td>\n",
       "      <td>4</td>\n",
       "      <td>1</td>\n",
       "      <td>8</td>\n",
       "      <td>293</td>\n",
       "      <td>42</td>\n",
       "      <td>355.50</td>\n",
       "      <td>2</td>\n",
       "      <td>2016</td>\n",
       "      <td>8</td>\n",
       "      <td>...</td>\n",
       "      <td>0.097234</td>\n",
       "      <td>0.0</td>\n",
       "      <td>0.0</td>\n",
       "      <td>0.0</td>\n",
       "      <td>0.0</td>\n",
       "      <td>0.000000</td>\n",
       "      <td>0.000000</td>\n",
       "      <td>0.0</td>\n",
       "      <td>0.0</td>\n",
       "      <td>0.0</td>\n",
       "    </tr>\n",
       "  </tbody>\n",
       "</table>\n",
       "<p>5 rows × 1123 columns</p>\n",
       "</div>"
      ],
      "text/plain": [
       "   teacher_id  school_state  project_grade_category  \\\n",
       "0       29315            33                       3   \n",
       "1       91061            10                       0   \n",
       "2       69247            44                       0   \n",
       "3       33451            27                       0   \n",
       "4       67811             4                       1   \n",
       "\n",
       "   project_subject_categories  project_subject_subcategories  \\\n",
       "0                          24                            321   \n",
       "1                          42                            392   \n",
       "2                          36                             17   \n",
       "3                           8                            293   \n",
       "4                           8                            293   \n",
       "\n",
       "   teacher_number_of_previously_posted_projects   price  quantity  Year  \\\n",
       "0                                            26  299.98         6  2016   \n",
       "1                                             1   20.00        20  2017   \n",
       "2                                             5  469.99         1  2017   \n",
       "3                                            16  684.47         5  2016   \n",
       "4                                            42  355.50         2  2016   \n",
       "\n",
       "   Month    ...      ess_would  ess_write  ess_writers  ess_writing  \\\n",
       "0     11    ...       0.066496        0.0          0.0          0.0   \n",
       "1      4    ...       0.000000        0.0          0.0          0.0   \n",
       "2      1    ...       0.104257        0.0          0.0          0.0   \n",
       "3      8    ...       0.000000        0.0          0.0          0.0   \n",
       "4      8    ...       0.097234        0.0          0.0          0.0   \n",
       "\n",
       "   ess_written  ess_year  ess_years  ess_yet  ess_yoga  ess_young  \n",
       "0          0.0  0.097140   0.000000      0.0       0.0        0.0  \n",
       "1          0.0  0.000000   0.000000      0.0       0.0        0.0  \n",
       "2          0.0  0.000000   0.075585      0.0       0.0        0.0  \n",
       "3          0.0  0.024132   0.000000      0.0       0.0        0.0  \n",
       "4          0.0  0.000000   0.000000      0.0       0.0        0.0  \n",
       "\n",
       "[5 rows x 1123 columns]"
      ]
     },
     "execution_count": 86,
     "metadata": {},
     "output_type": "execute_result"
    }
   ],
   "source": [
    "X2.head()"
   ]
  },
  {
   "cell_type": "code",
   "execution_count": 87,
   "metadata": {},
   "outputs": [
    {
     "data": {
      "text/plain": [
       "1    154346\n",
       "0     27734\n",
       "Name: project_is_approved, dtype: int64"
      ]
     },
     "execution_count": 87,
     "metadata": {},
     "output_type": "execute_result"
    }
   ],
   "source": [
    "y2.value_counts()"
   ]
  },
  {
   "cell_type": "markdown",
   "metadata": {},
   "source": [
    "**LightGBM**"
   ]
  },
  {
   "cell_type": "code",
   "execution_count": 88,
   "metadata": {
    "scrolled": true
   },
   "outputs": [
    {
     "name": "stdout",
     "output_type": "stream",
     "text": [
      "Training until validation scores don't improve for 100 rounds.\n",
      "[50]\tvalid_0's auc: 0.726015\n",
      "[100]\tvalid_0's auc: 0.739629\n",
      "[150]\tvalid_0's auc: 0.746609\n",
      "[200]\tvalid_0's auc: 0.750764\n",
      "[250]\tvalid_0's auc: 0.753699\n",
      "[300]\tvalid_0's auc: 0.754878\n",
      "[350]\tvalid_0's auc: 0.756063\n",
      "[400]\tvalid_0's auc: 0.756916\n",
      "[450]\tvalid_0's auc: 0.757506\n",
      "[500]\tvalid_0's auc: 0.757862\n",
      "[550]\tvalid_0's auc: 0.758215\n",
      "[600]\tvalid_0's auc: 0.758285\n",
      "[650]\tvalid_0's auc: 0.758126\n",
      "Early stopping, best iteration is:\n",
      "[595]\tvalid_0's auc: 0.758428\n",
      "AUC: 0.7584275483628934\n"
     ]
    }
   ],
   "source": [
    "#. define gridsearch parameters\n",
    "#   a) model complexity\n",
    "        #i)  max_depth\n",
    "        #ii) min_child_weight\n",
    "#   b) randomness\n",
    "        #i)  subsample\n",
    "        #ii) colsample_bytree\n",
    "#   c) stepsize\n",
    "        #i)  eta = n_estimators\n",
    "        #ii) learning_rate\n",
    "#   d) weighting positive data\n",
    "        #i) scale_pos_weight\n",
    "\n",
    "X_train_l, X_valid_l, y_train_l, y_valid_l = train_test_split(X2, y2, test_size=0.25, random_state=2018)\n",
    "\n",
    "params = {\n",
    "        'boosting_type': 'gbdt',\n",
    "        'objective': 'binary',\n",
    "        'metric': 'auc',\n",
    "        'max_depth': 7,\n",
    "        'num_leaves': 32,\n",
    "        'learning_rate': 0.05,\n",
    "        'feature_fraction': 0.80,\n",
    "        'bagging_fraction': 0.80,\n",
    "        'bagging_freq': 5,\n",
    "        'verbose': 100,\n",
    "        'lambda_l2': 1,\n",
    "    }  \n",
    "\n",
    "import lightgbm as lgb\n",
    "evals_result = {}  # to record eval results for plotting\n",
    "model_lgb = lgb.train(\n",
    "        params,\n",
    "        lgb.Dataset(X_train_l, y_train_l),\n",
    "        num_boost_round=10000,\n",
    "        valid_sets=[lgb.Dataset(X_valid_l, y_valid_l)],\n",
    "        early_stopping_rounds=100,\n",
    "        evals_result=evals_result,\n",
    "        verbose_eval=50)\n",
    "valid_preds_lgb = model_lgb.predict(X_valid_l, num_iteration=model_lgb.best_iteration)\n",
    "auc = roc_auc_score(y_valid_l, valid_preds_lgb)\n",
    "print('AUC:',auc)\n",
    "#0.7584"
   ]
  },
  {
   "cell_type": "code",
   "execution_count": 89,
   "metadata": {},
   "outputs": [
    {
     "data": {
      "image/png": "[encoded data removed]",
      "text/plain": [
       "<Figure size 432x288 with 1 Axes>"
      ]
     },
     "metadata": {},
     "output_type": "display_data"
    }
   ],
   "source": [
    "fpr, tpr, threshold = metrics.roc_curve(y_valid_l, valid_preds_lgb)\n",
    "roc_auc = metrics.auc(fpr, tpr)\n",
    "\n",
    "plt.title('Receiver Operating Characteristic')\n",
    "plt.plot(fpr, tpr, 'b', label = 'AUC = %0.2f' % roc_auc)\n",
    "plt.legend(loc = 'lower right')\n",
    "plt.plot([0, 1], [0, 1],'r--')\n",
    "plt.xlim([0, 1])\n",
    "plt.ylim([0, 1])\n",
    "plt.ylabel('True Positive Rate')\n",
    "plt.xlabel('False Positive Rate')\n",
    "plt.show()"
   ]
  }
 ],
 "metadata": {
  "accelerator": "GPU",
  "colab": {
   "collapsed_sections": [],
   "default_view": {},
   "name": "donors_choose.ipynb",
   "provenance": [],
   "version": "0.3.2",
   "views": {}
  },
  "kernelspec": {
   "display_name": "Python 3",
   "language": "python",
   "name": "python3"
  },
  "language_info": {
   "codemirror_mode": {
    "name": "ipython",
    "version": 3
   },
   "file_extension": ".py",
   "mimetype": "text/x-python",
   "name": "python",
   "nbconvert_exporter": "python",
   "pygments_lexer": "ipython3",
   "version": "3.6.6"
  }
 },
 "nbformat": 4,
 "nbformat_minor": 1
}
